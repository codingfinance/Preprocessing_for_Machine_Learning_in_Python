{
  "nbformat": 4,
  "nbformat_minor": 0,
  "metadata": {
    "colab": {
      "name": "Preprocessing.ipynb",
      "provenance": [],
      "collapsed_sections": []
    },
    "kernelspec": {
      "name": "python3",
      "display_name": "Python 3"
    },
    "accelerator": "GPU"
  },
  "cells": [
    {
      "cell_type": "markdown",
      "metadata": {
        "id": "qNFNR5PG4BmD",
        "colab_type": "text"
      },
      "source": [
        "First load all the data from DataCamp's website."
      ]
    },
    {
      "cell_type": "code",
      "metadata": {
        "id": "v81FdBwZ1cUO",
        "colab_type": "code",
        "colab": {}
      },
      "source": [
        "import pandas as pd\n",
        "import numpy as np"
      ],
      "execution_count": 0,
      "outputs": []
    },
    {
      "cell_type": "code",
      "metadata": {
        "id": "kbpNY_y-3T_z",
        "colab_type": "code",
        "colab": {}
      },
      "source": [
        "hiking = pd.read_json('https://assets.datacamp.com/production/repositories/1816/datasets/4f26c48451bdbf73db8a58e226cd3d6b45cf7bb5/hiking.json',\n",
        "                      encoding = 'utf-8')"
      ],
      "execution_count": 0,
      "outputs": []
    },
    {
      "cell_type": "code",
      "metadata": {
        "id": "bKe7Bo213W4K",
        "colab_type": "code",
        "colab": {
          "base_uri": "https://localhost:8080/",
          "height": 429
        },
        "outputId": "3bc1267b-9582-416b-feae-9f5d83fcbd5b"
      },
      "source": [
        "hiking.head(3).T"
      ],
      "execution_count": 135,
      "outputs": [
        {
          "output_type": "execute_result",
          "data": {
            "text/html": [
              "<div>\n",
              "<style scoped>\n",
              "    .dataframe tbody tr th:only-of-type {\n",
              "        vertical-align: middle;\n",
              "    }\n",
              "\n",
              "    .dataframe tbody tr th {\n",
              "        vertical-align: top;\n",
              "    }\n",
              "\n",
              "    .dataframe thead th {\n",
              "        text-align: right;\n",
              "    }\n",
              "</style>\n",
              "<table border=\"1\" class=\"dataframe\">\n",
              "  <thead>\n",
              "    <tr style=\"text-align: right;\">\n",
              "      <th></th>\n",
              "      <th>0</th>\n",
              "      <th>1</th>\n",
              "      <th>2</th>\n",
              "    </tr>\n",
              "  </thead>\n",
              "  <tbody>\n",
              "    <tr>\n",
              "      <th>Prop_ID</th>\n",
              "      <td>B057</td>\n",
              "      <td>B073</td>\n",
              "      <td>B073</td>\n",
              "    </tr>\n",
              "    <tr>\n",
              "      <th>Name</th>\n",
              "      <td>Salt Marsh Nature Trail</td>\n",
              "      <td>Lullwater</td>\n",
              "      <td>Midwood</td>\n",
              "    </tr>\n",
              "    <tr>\n",
              "      <th>Location</th>\n",
              "      <td>Enter behind the Salt Marsh Nature Center, loc...</td>\n",
              "      <td>Enter Park at Lincoln Road and Ocean Avenue en...</td>\n",
              "      <td>Enter Park at Lincoln Road and Ocean Avenue en...</td>\n",
              "    </tr>\n",
              "    <tr>\n",
              "      <th>Park_Name</th>\n",
              "      <td>Marine Park</td>\n",
              "      <td>Prospect Park</td>\n",
              "      <td>Prospect Park</td>\n",
              "    </tr>\n",
              "    <tr>\n",
              "      <th>Length</th>\n",
              "      <td>0.8 miles</td>\n",
              "      <td>1.0 mile</td>\n",
              "      <td>0.75 miles</td>\n",
              "    </tr>\n",
              "    <tr>\n",
              "      <th>Difficulty</th>\n",
              "      <td>None</td>\n",
              "      <td>Easy</td>\n",
              "      <td>Easy</td>\n",
              "    </tr>\n",
              "    <tr>\n",
              "      <th>Other_Details</th>\n",
              "      <td>&lt;p&gt;The first half of this mile-long trail foll...</td>\n",
              "      <td>Explore the Lullwater to see how nature thrive...</td>\n",
              "      <td>Step back in time with a walk through Brooklyn...</td>\n",
              "    </tr>\n",
              "    <tr>\n",
              "      <th>Accessible</th>\n",
              "      <td>Y</td>\n",
              "      <td>N</td>\n",
              "      <td>N</td>\n",
              "    </tr>\n",
              "    <tr>\n",
              "      <th>Limited_Access</th>\n",
              "      <td>N</td>\n",
              "      <td>N</td>\n",
              "      <td>N</td>\n",
              "    </tr>\n",
              "    <tr>\n",
              "      <th>lat</th>\n",
              "      <td>NaN</td>\n",
              "      <td>NaN</td>\n",
              "      <td>NaN</td>\n",
              "    </tr>\n",
              "    <tr>\n",
              "      <th>lon</th>\n",
              "      <td>NaN</td>\n",
              "      <td>NaN</td>\n",
              "      <td>NaN</td>\n",
              "    </tr>\n",
              "  </tbody>\n",
              "</table>\n",
              "</div>"
            ],
            "text/plain": [
              "                                                                0  ...                                                  2\n",
              "Prop_ID                                                      B057  ...                                               B073\n",
              "Name                                      Salt Marsh Nature Trail  ...                                            Midwood\n",
              "Location        Enter behind the Salt Marsh Nature Center, loc...  ...  Enter Park at Lincoln Road and Ocean Avenue en...\n",
              "Park_Name                                             Marine Park  ...                                      Prospect Park\n",
              "Length                                                  0.8 miles  ...                                         0.75 miles\n",
              "Difficulty                                                   None  ...                                               Easy\n",
              "Other_Details   <p>The first half of this mile-long trail foll...  ...  Step back in time with a walk through Brooklyn...\n",
              "Accessible                                                      Y  ...                                                  N\n",
              "Limited_Access                                                  N  ...                                                  N\n",
              "lat                                                           NaN  ...                                                NaN\n",
              "lon                                                           NaN  ...                                                NaN\n",
              "\n",
              "[11 rows x 3 columns]"
            ]
          },
          "metadata": {
            "tags": []
          },
          "execution_count": 135
        }
      ]
    },
    {
      "cell_type": "code",
      "metadata": {
        "id": "O59pszMv3YQy",
        "colab_type": "code",
        "colab": {}
      },
      "source": [
        "wine = pd.read_csv('https://assets.datacamp.com/production/repositories/1816/datasets/9bd5350dfdb481e0f94eeef6acf2663452a8ef8b/wine_types.csv')"
      ],
      "execution_count": 0,
      "outputs": []
    },
    {
      "cell_type": "code",
      "metadata": {
        "id": "AohNY0Vr3kAI",
        "colab_type": "code",
        "colab": {
          "base_uri": "https://localhost:8080/",
          "height": 489
        },
        "outputId": "b2a4516f-5427-4b58-ae73-6e12646e0724"
      },
      "source": [
        "wine.head(3).T"
      ],
      "execution_count": 137,
      "outputs": [
        {
          "output_type": "execute_result",
          "data": {
            "text/html": [
              "<div>\n",
              "<style scoped>\n",
              "    .dataframe tbody tr th:only-of-type {\n",
              "        vertical-align: middle;\n",
              "    }\n",
              "\n",
              "    .dataframe tbody tr th {\n",
              "        vertical-align: top;\n",
              "    }\n",
              "\n",
              "    .dataframe thead th {\n",
              "        text-align: right;\n",
              "    }\n",
              "</style>\n",
              "<table border=\"1\" class=\"dataframe\">\n",
              "  <thead>\n",
              "    <tr style=\"text-align: right;\">\n",
              "      <th></th>\n",
              "      <th>0</th>\n",
              "      <th>1</th>\n",
              "      <th>2</th>\n",
              "    </tr>\n",
              "  </thead>\n",
              "  <tbody>\n",
              "    <tr>\n",
              "      <th>Type</th>\n",
              "      <td>1.00</td>\n",
              "      <td>1.00</td>\n",
              "      <td>1.00</td>\n",
              "    </tr>\n",
              "    <tr>\n",
              "      <th>Alcohol</th>\n",
              "      <td>14.23</td>\n",
              "      <td>13.20</td>\n",
              "      <td>13.16</td>\n",
              "    </tr>\n",
              "    <tr>\n",
              "      <th>Malic acid</th>\n",
              "      <td>1.71</td>\n",
              "      <td>1.78</td>\n",
              "      <td>2.36</td>\n",
              "    </tr>\n",
              "    <tr>\n",
              "      <th>Ash</th>\n",
              "      <td>2.43</td>\n",
              "      <td>2.14</td>\n",
              "      <td>2.67</td>\n",
              "    </tr>\n",
              "    <tr>\n",
              "      <th>Alcalinity of ash</th>\n",
              "      <td>15.60</td>\n",
              "      <td>11.20</td>\n",
              "      <td>18.60</td>\n",
              "    </tr>\n",
              "    <tr>\n",
              "      <th>Magnesium</th>\n",
              "      <td>127.00</td>\n",
              "      <td>100.00</td>\n",
              "      <td>101.00</td>\n",
              "    </tr>\n",
              "    <tr>\n",
              "      <th>Total phenols</th>\n",
              "      <td>2.80</td>\n",
              "      <td>2.65</td>\n",
              "      <td>2.80</td>\n",
              "    </tr>\n",
              "    <tr>\n",
              "      <th>Flavanoids</th>\n",
              "      <td>3.06</td>\n",
              "      <td>2.76</td>\n",
              "      <td>3.24</td>\n",
              "    </tr>\n",
              "    <tr>\n",
              "      <th>Nonflavanoid phenols</th>\n",
              "      <td>0.28</td>\n",
              "      <td>0.26</td>\n",
              "      <td>0.30</td>\n",
              "    </tr>\n",
              "    <tr>\n",
              "      <th>Proanthocyanins</th>\n",
              "      <td>2.29</td>\n",
              "      <td>1.28</td>\n",
              "      <td>2.81</td>\n",
              "    </tr>\n",
              "    <tr>\n",
              "      <th>Color intensity</th>\n",
              "      <td>5.64</td>\n",
              "      <td>4.38</td>\n",
              "      <td>5.68</td>\n",
              "    </tr>\n",
              "    <tr>\n",
              "      <th>Hue</th>\n",
              "      <td>1.04</td>\n",
              "      <td>1.05</td>\n",
              "      <td>1.03</td>\n",
              "    </tr>\n",
              "    <tr>\n",
              "      <th>OD280/OD315 of diluted wines</th>\n",
              "      <td>3.92</td>\n",
              "      <td>3.40</td>\n",
              "      <td>3.17</td>\n",
              "    </tr>\n",
              "    <tr>\n",
              "      <th>Proline</th>\n",
              "      <td>1065.00</td>\n",
              "      <td>1050.00</td>\n",
              "      <td>1185.00</td>\n",
              "    </tr>\n",
              "  </tbody>\n",
              "</table>\n",
              "</div>"
            ],
            "text/plain": [
              "                                    0        1        2\n",
              "Type                             1.00     1.00     1.00\n",
              "Alcohol                         14.23    13.20    13.16\n",
              "Malic acid                       1.71     1.78     2.36\n",
              "Ash                              2.43     2.14     2.67\n",
              "Alcalinity of ash               15.60    11.20    18.60\n",
              "Magnesium                      127.00   100.00   101.00\n",
              "Total phenols                    2.80     2.65     2.80\n",
              "Flavanoids                       3.06     2.76     3.24\n",
              "Nonflavanoid phenols             0.28     0.26     0.30\n",
              "Proanthocyanins                  2.29     1.28     2.81\n",
              "Color intensity                  5.64     4.38     5.68\n",
              "Hue                              1.04     1.05     1.03\n",
              "OD280/OD315 of diluted wines     3.92     3.40     3.17\n",
              "Proline                       1065.00  1050.00  1185.00"
            ]
          },
          "metadata": {
            "tags": []
          },
          "execution_count": 137
        }
      ]
    },
    {
      "cell_type": "code",
      "metadata": {
        "id": "QGrsPH8s3lJh",
        "colab_type": "code",
        "colab": {}
      },
      "source": [
        "ufo = pd.read_csv('https://assets.datacamp.com/production/repositories/1816/datasets/a5ebfe5d2ed194f2668867603b563963af4769e9/ufo_sightings_large.csv')"
      ],
      "execution_count": 0,
      "outputs": []
    },
    {
      "cell_type": "code",
      "metadata": {
        "id": "REkygNgq3rLJ",
        "colab_type": "code",
        "colab": {
          "base_uri": "https://localhost:8080/",
          "height": 412
        },
        "outputId": "2d65fbd9-8298-4034-a983-00c99cf8752b"
      },
      "source": [
        "ufo.head(3).T"
      ],
      "execution_count": 139,
      "outputs": [
        {
          "output_type": "execute_result",
          "data": {
            "text/html": [
              "<div>\n",
              "<style scoped>\n",
              "    .dataframe tbody tr th:only-of-type {\n",
              "        vertical-align: middle;\n",
              "    }\n",
              "\n",
              "    .dataframe tbody tr th {\n",
              "        vertical-align: top;\n",
              "    }\n",
              "\n",
              "    .dataframe thead th {\n",
              "        text-align: right;\n",
              "    }\n",
              "</style>\n",
              "<table border=\"1\" class=\"dataframe\">\n",
              "  <thead>\n",
              "    <tr style=\"text-align: right;\">\n",
              "      <th></th>\n",
              "      <th>0</th>\n",
              "      <th>1</th>\n",
              "      <th>2</th>\n",
              "    </tr>\n",
              "  </thead>\n",
              "  <tbody>\n",
              "    <tr>\n",
              "      <th>date</th>\n",
              "      <td>11/3/2011 19:21</td>\n",
              "      <td>10/3/2004 19:05</td>\n",
              "      <td>9/25/2009 21:00</td>\n",
              "    </tr>\n",
              "    <tr>\n",
              "      <th>city</th>\n",
              "      <td>woodville</td>\n",
              "      <td>cleveland</td>\n",
              "      <td>coon rapids</td>\n",
              "    </tr>\n",
              "    <tr>\n",
              "      <th>state</th>\n",
              "      <td>wi</td>\n",
              "      <td>oh</td>\n",
              "      <td>mn</td>\n",
              "    </tr>\n",
              "    <tr>\n",
              "      <th>country</th>\n",
              "      <td>us</td>\n",
              "      <td>us</td>\n",
              "      <td>us</td>\n",
              "    </tr>\n",
              "    <tr>\n",
              "      <th>type</th>\n",
              "      <td>unknown</td>\n",
              "      <td>circle</td>\n",
              "      <td>cigar</td>\n",
              "    </tr>\n",
              "    <tr>\n",
              "      <th>seconds</th>\n",
              "      <td>1.2096e+06</td>\n",
              "      <td>30</td>\n",
              "      <td>0</td>\n",
              "    </tr>\n",
              "    <tr>\n",
              "      <th>length_of_time</th>\n",
              "      <td>2 weeks</td>\n",
              "      <td>30sec.</td>\n",
              "      <td>NaN</td>\n",
              "    </tr>\n",
              "    <tr>\n",
              "      <th>desc</th>\n",
              "      <td>Red blinking objects similar to airplanes or s...</td>\n",
              "      <td>Many fighter jets flying towards UFO</td>\n",
              "      <td>Green&amp;#44 red&amp;#44 and blue pulses of light tha...</td>\n",
              "    </tr>\n",
              "    <tr>\n",
              "      <th>recorded</th>\n",
              "      <td>12/12/2011</td>\n",
              "      <td>10/27/2004</td>\n",
              "      <td>12/12/2009</td>\n",
              "    </tr>\n",
              "    <tr>\n",
              "      <th>lat</th>\n",
              "      <td>44.9530556</td>\n",
              "      <td>41.4994444</td>\n",
              "      <td>45.1200000</td>\n",
              "    </tr>\n",
              "    <tr>\n",
              "      <th>long</th>\n",
              "      <td>-92.2911</td>\n",
              "      <td>-81.6956</td>\n",
              "      <td>-93.2875</td>\n",
              "    </tr>\n",
              "  </tbody>\n",
              "</table>\n",
              "</div>"
            ],
            "text/plain": [
              "                                                                0  ...                                                  2\n",
              "date                                              11/3/2011 19:21  ...                                    9/25/2009 21:00\n",
              "city                                                    woodville  ...                                        coon rapids\n",
              "state                                                          wi  ...                                                 mn\n",
              "country                                                        us  ...                                                 us\n",
              "type                                                      unknown  ...                                              cigar\n",
              "seconds                                                1.2096e+06  ...                                                  0\n",
              "length_of_time                                            2 weeks  ...                                                NaN\n",
              "desc            Red blinking objects similar to airplanes or s...  ...  Green&#44 red&#44 and blue pulses of light tha...\n",
              "recorded                                               12/12/2011  ...                                         12/12/2009\n",
              "lat                                                    44.9530556  ...                                         45.1200000\n",
              "long                                                     -92.2911  ...                                           -93.2875\n",
              "\n",
              "[11 rows x 3 columns]"
            ]
          },
          "metadata": {
            "tags": []
          },
          "execution_count": 139
        }
      ]
    },
    {
      "cell_type": "code",
      "metadata": {
        "id": "zAMO0Y5p3smx",
        "colab_type": "code",
        "colab": {}
      },
      "source": [
        "volunteer = pd.read_csv('https://assets.datacamp.com/production/repositories/1816/datasets/668b96955d8b252aa8439c7602d516634e3f015e/volunteer_opportunities.csv')"
      ],
      "execution_count": 0,
      "outputs": []
    },
    {
      "cell_type": "code",
      "metadata": {
        "id": "gMgwyKyN30Ox",
        "colab_type": "code",
        "colab": {
          "base_uri": "https://localhost:8080/",
          "height": 1000
        },
        "outputId": "9e7cab1e-7d1f-4614-acbb-968afcb35765"
      },
      "source": [
        "volunteer.head(3).T"
      ],
      "execution_count": 141,
      "outputs": [
        {
          "output_type": "execute_result",
          "data": {
            "text/html": [
              "<div>\n",
              "<style scoped>\n",
              "    .dataframe tbody tr th:only-of-type {\n",
              "        vertical-align: middle;\n",
              "    }\n",
              "\n",
              "    .dataframe tbody tr th {\n",
              "        vertical-align: top;\n",
              "    }\n",
              "\n",
              "    .dataframe thead th {\n",
              "        text-align: right;\n",
              "    }\n",
              "</style>\n",
              "<table border=\"1\" class=\"dataframe\">\n",
              "  <thead>\n",
              "    <tr style=\"text-align: right;\">\n",
              "      <th></th>\n",
              "      <th>0</th>\n",
              "      <th>1</th>\n",
              "      <th>2</th>\n",
              "    </tr>\n",
              "  </thead>\n",
              "  <tbody>\n",
              "    <tr>\n",
              "      <th>opportunity_id</th>\n",
              "      <td>4996</td>\n",
              "      <td>5008</td>\n",
              "      <td>5016</td>\n",
              "    </tr>\n",
              "    <tr>\n",
              "      <th>content_id</th>\n",
              "      <td>37004</td>\n",
              "      <td>37036</td>\n",
              "      <td>37143</td>\n",
              "    </tr>\n",
              "    <tr>\n",
              "      <th>vol_requests</th>\n",
              "      <td>50</td>\n",
              "      <td>2</td>\n",
              "      <td>20</td>\n",
              "    </tr>\n",
              "    <tr>\n",
              "      <th>event_time</th>\n",
              "      <td>0</td>\n",
              "      <td>0</td>\n",
              "      <td>0</td>\n",
              "    </tr>\n",
              "    <tr>\n",
              "      <th>title</th>\n",
              "      <td>Volunteers Needed For Rise Up &amp; Stay Put! Home...</td>\n",
              "      <td>Web designer</td>\n",
              "      <td>Urban Adventures - Ice Skating at Lasker Rink</td>\n",
              "    </tr>\n",
              "    <tr>\n",
              "      <th>hits</th>\n",
              "      <td>737</td>\n",
              "      <td>22</td>\n",
              "      <td>62</td>\n",
              "    </tr>\n",
              "    <tr>\n",
              "      <th>summary</th>\n",
              "      <td>Building on successful events last summer and ...</td>\n",
              "      <td>Build a website for an Afghan business</td>\n",
              "      <td>Please join us and the students from Mott Hall...</td>\n",
              "    </tr>\n",
              "    <tr>\n",
              "      <th>is_priority</th>\n",
              "      <td>NaN</td>\n",
              "      <td>NaN</td>\n",
              "      <td>NaN</td>\n",
              "    </tr>\n",
              "    <tr>\n",
              "      <th>category_id</th>\n",
              "      <td>NaN</td>\n",
              "      <td>1</td>\n",
              "      <td>1</td>\n",
              "    </tr>\n",
              "    <tr>\n",
              "      <th>category_desc</th>\n",
              "      <td>NaN</td>\n",
              "      <td>Strengthening Communities</td>\n",
              "      <td>Strengthening Communities</td>\n",
              "    </tr>\n",
              "    <tr>\n",
              "      <th>amsl</th>\n",
              "      <td>NaN</td>\n",
              "      <td>NaN</td>\n",
              "      <td>NaN</td>\n",
              "    </tr>\n",
              "    <tr>\n",
              "      <th>amsl_unit</th>\n",
              "      <td>NaN</td>\n",
              "      <td>NaN</td>\n",
              "      <td>NaN</td>\n",
              "    </tr>\n",
              "    <tr>\n",
              "      <th>org_title</th>\n",
              "      <td>Center For NYC Neighborhoods</td>\n",
              "      <td>Bpeace</td>\n",
              "      <td>Street Project</td>\n",
              "    </tr>\n",
              "    <tr>\n",
              "      <th>org_content_id</th>\n",
              "      <td>4426</td>\n",
              "      <td>37026</td>\n",
              "      <td>3001</td>\n",
              "    </tr>\n",
              "    <tr>\n",
              "      <th>addresses_count</th>\n",
              "      <td>1</td>\n",
              "      <td>1</td>\n",
              "      <td>1</td>\n",
              "    </tr>\n",
              "    <tr>\n",
              "      <th>locality</th>\n",
              "      <td>NaN</td>\n",
              "      <td>5 22nd St\\nNew York, NY 10010\\n(40.74053152272...</td>\n",
              "      <td>NaN</td>\n",
              "    </tr>\n",
              "    <tr>\n",
              "      <th>region</th>\n",
              "      <td>NY</td>\n",
              "      <td>NY</td>\n",
              "      <td>NY</td>\n",
              "    </tr>\n",
              "    <tr>\n",
              "      <th>postalcode</th>\n",
              "      <td>NaN</td>\n",
              "      <td>10010</td>\n",
              "      <td>10026</td>\n",
              "    </tr>\n",
              "    <tr>\n",
              "      <th>primary_loc</th>\n",
              "      <td>NaN</td>\n",
              "      <td>NaN</td>\n",
              "      <td>NaN</td>\n",
              "    </tr>\n",
              "    <tr>\n",
              "      <th>display_url</th>\n",
              "      <td>/opportunities/4996</td>\n",
              "      <td>/opportunities/5008</td>\n",
              "      <td>/opportunities/5016</td>\n",
              "    </tr>\n",
              "    <tr>\n",
              "      <th>recurrence_type</th>\n",
              "      <td>onetime</td>\n",
              "      <td>onetime</td>\n",
              "      <td>onetime</td>\n",
              "    </tr>\n",
              "    <tr>\n",
              "      <th>hours</th>\n",
              "      <td>0</td>\n",
              "      <td>0</td>\n",
              "      <td>0</td>\n",
              "    </tr>\n",
              "    <tr>\n",
              "      <th>created_date</th>\n",
              "      <td>January 13 2011</td>\n",
              "      <td>January 14 2011</td>\n",
              "      <td>January 19 2011</td>\n",
              "    </tr>\n",
              "    <tr>\n",
              "      <th>last_modified_date</th>\n",
              "      <td>June 23 2011</td>\n",
              "      <td>January 25 2011</td>\n",
              "      <td>January 21 2011</td>\n",
              "    </tr>\n",
              "    <tr>\n",
              "      <th>start_date_date</th>\n",
              "      <td>July 30 2011</td>\n",
              "      <td>February 01 2011</td>\n",
              "      <td>January 29 2011</td>\n",
              "    </tr>\n",
              "    <tr>\n",
              "      <th>end_date_date</th>\n",
              "      <td>July 30 2011</td>\n",
              "      <td>February 01 2011</td>\n",
              "      <td>January 29 2011</td>\n",
              "    </tr>\n",
              "    <tr>\n",
              "      <th>status</th>\n",
              "      <td>approved</td>\n",
              "      <td>approved</td>\n",
              "      <td>approved</td>\n",
              "    </tr>\n",
              "    <tr>\n",
              "      <th>Latitude</th>\n",
              "      <td>NaN</td>\n",
              "      <td>NaN</td>\n",
              "      <td>NaN</td>\n",
              "    </tr>\n",
              "    <tr>\n",
              "      <th>Longitude</th>\n",
              "      <td>NaN</td>\n",
              "      <td>NaN</td>\n",
              "      <td>NaN</td>\n",
              "    </tr>\n",
              "    <tr>\n",
              "      <th>Community Board</th>\n",
              "      <td>NaN</td>\n",
              "      <td>NaN</td>\n",
              "      <td>NaN</td>\n",
              "    </tr>\n",
              "    <tr>\n",
              "      <th>Community Council</th>\n",
              "      <td>NaN</td>\n",
              "      <td>NaN</td>\n",
              "      <td>NaN</td>\n",
              "    </tr>\n",
              "    <tr>\n",
              "      <th>Census Tract</th>\n",
              "      <td>NaN</td>\n",
              "      <td>NaN</td>\n",
              "      <td>NaN</td>\n",
              "    </tr>\n",
              "    <tr>\n",
              "      <th>BIN</th>\n",
              "      <td>NaN</td>\n",
              "      <td>NaN</td>\n",
              "      <td>NaN</td>\n",
              "    </tr>\n",
              "    <tr>\n",
              "      <th>BBL</th>\n",
              "      <td>NaN</td>\n",
              "      <td>NaN</td>\n",
              "      <td>NaN</td>\n",
              "    </tr>\n",
              "    <tr>\n",
              "      <th>NTA</th>\n",
              "      <td>NaN</td>\n",
              "      <td>NaN</td>\n",
              "      <td>NaN</td>\n",
              "    </tr>\n",
              "  </tbody>\n",
              "</table>\n",
              "</div>"
            ],
            "text/plain": [
              "                                                                    0  ...                                                  2\n",
              "opportunity_id                                                   4996  ...                                               5016\n",
              "content_id                                                      37004  ...                                              37143\n",
              "vol_requests                                                       50  ...                                                 20\n",
              "event_time                                                          0  ...                                                  0\n",
              "title               Volunteers Needed For Rise Up & Stay Put! Home...  ...      Urban Adventures - Ice Skating at Lasker Rink\n",
              "hits                                                              737  ...                                                 62\n",
              "summary             Building on successful events last summer and ...  ...  Please join us and the students from Mott Hall...\n",
              "is_priority                                                       NaN  ...                                                NaN\n",
              "category_id                                                       NaN  ...                                                  1\n",
              "category_desc                                                     NaN  ...                          Strengthening Communities\n",
              "amsl                                                              NaN  ...                                                NaN\n",
              "amsl_unit                                                         NaN  ...                                                NaN\n",
              "org_title                                Center For NYC Neighborhoods  ...                                     Street Project\n",
              "org_content_id                                                   4426  ...                                               3001\n",
              "addresses_count                                                     1  ...                                                  1\n",
              "locality                                                          NaN  ...                                                NaN\n",
              "region                                                             NY  ...                                                 NY\n",
              "postalcode                                                        NaN  ...                                              10026\n",
              "primary_loc                                                       NaN  ...                                                NaN\n",
              "display_url                                       /opportunities/4996  ...                                /opportunities/5016\n",
              "recurrence_type                                               onetime  ...                                            onetime\n",
              "hours                                                               0  ...                                                  0\n",
              "created_date                                          January 13 2011  ...                                    January 19 2011\n",
              "last_modified_date                                       June 23 2011  ...                                    January 21 2011\n",
              "start_date_date                                          July 30 2011  ...                                    January 29 2011\n",
              "end_date_date                                            July 30 2011  ...                                    January 29 2011\n",
              "status                                                       approved  ...                                           approved\n",
              "Latitude                                                          NaN  ...                                                NaN\n",
              "Longitude                                                         NaN  ...                                                NaN\n",
              "Community Board                                                   NaN  ...                                                NaN\n",
              "Community Council                                                 NaN  ...                                                NaN\n",
              "Census Tract                                                      NaN  ...                                                NaN\n",
              "BIN                                                               NaN  ...                                                NaN\n",
              "BBL                                                               NaN  ...                                                NaN\n",
              "NTA                                                               NaN  ...                                                NaN\n",
              "\n",
              "[35 rows x 3 columns]"
            ]
          },
          "metadata": {
            "tags": []
          },
          "execution_count": 141
        }
      ]
    },
    {
      "cell_type": "markdown",
      "metadata": {
        "id": "AGNoZfMv310g",
        "colab_type": "text"
      },
      "source": [
        "The tutorials start now."
      ]
    },
    {
      "cell_type": "markdown",
      "metadata": {
        "id": "JHKtlWvY39Fe",
        "colab_type": "text"
      },
      "source": [
        "### Part 1 - Introduction to Data Preprocessing"
      ]
    },
    {
      "cell_type": "markdown",
      "metadata": {
        "id": "L0__7qh967EO",
        "colab_type": "text"
      },
      "source": [
        "#### Missing data - rows\n",
        "\n",
        "Taking a look at the volunteer dataset again, we want to drop rows where the `category_desc` column values are missing. We're going to do this using boolean indexing, by checking to see if we have any null values, and then filtering the dataset so that we only have rows with those values."
      ]
    },
    {
      "cell_type": "code",
      "metadata": {
        "id": "wGvuqzCd6-pm",
        "colab_type": "code",
        "colab": {
          "base_uri": "https://localhost:8080/",
          "height": 35
        },
        "outputId": "2e6d7c85-1b39-4b7e-aff4-f7ad60f5ffba"
      },
      "source": [
        "volunteer['category_desc'].isnull().sum()"
      ],
      "execution_count": 142,
      "outputs": [
        {
          "output_type": "execute_result",
          "data": {
            "text/plain": [
              "48"
            ]
          },
          "metadata": {
            "tags": []
          },
          "execution_count": 142
        }
      ]
    },
    {
      "cell_type": "markdown",
      "metadata": {
        "id": "zjbK8UsY7EwW",
        "colab_type": "text"
      },
      "source": [
        "There are 48 missing values"
      ]
    },
    {
      "cell_type": "code",
      "metadata": {
        "id": "idSNcvAu7QQc",
        "colab_type": "code",
        "colab": {}
      },
      "source": [
        "volunteer_subset = volunteer[volunteer['category_desc'].notnull()]"
      ],
      "execution_count": 0,
      "outputs": []
    },
    {
      "cell_type": "code",
      "metadata": {
        "id": "xG6MxJZU7o_q",
        "colab_type": "code",
        "colab": {
          "base_uri": "https://localhost:8080/",
          "height": 35
        },
        "outputId": "a038bd1e-2175-4271-d892-c6525fc63dd2"
      },
      "source": [
        "volunteer_subset.shape"
      ],
      "execution_count": 144,
      "outputs": [
        {
          "output_type": "execute_result",
          "data": {
            "text/plain": [
              "(617, 35)"
            ]
          },
          "metadata": {
            "tags": []
          },
          "execution_count": 144
        }
      ]
    },
    {
      "cell_type": "markdown",
      "metadata": {
        "id": "3KZBGe5R7qa5",
        "colab_type": "text"
      },
      "source": [
        "#### Converting a column type\n",
        "\n",
        "If you take a look at the volunteer dataset types, you'll see that the column `hits` is type object. But, if you actually look at the column, you'll see that it consists of integers. Let's convert that column to type `int`."
      ]
    },
    {
      "cell_type": "code",
      "metadata": {
        "id": "DUfh0VqW7vdE",
        "colab_type": "code",
        "colab": {
          "base_uri": "https://localhost:8080/",
          "height": 35
        },
        "outputId": "4c0da545-9eb1-414e-f595-7bef6f2ec55d"
      },
      "source": [
        "volunteer['hits'].dtype"
      ],
      "execution_count": 145,
      "outputs": [
        {
          "output_type": "execute_result",
          "data": {
            "text/plain": [
              "dtype('int64')"
            ]
          },
          "metadata": {
            "tags": []
          },
          "execution_count": 145
        }
      ]
    },
    {
      "cell_type": "code",
      "metadata": {
        "id": "FGJVh3q27zCC",
        "colab_type": "code",
        "colab": {
          "base_uri": "https://localhost:8080/",
          "height": 127
        },
        "outputId": "eb11904a-4578-42cb-fcd3-b35f697c620a"
      },
      "source": [
        "volunteer['hits'].head()"
      ],
      "execution_count": 146,
      "outputs": [
        {
          "output_type": "execute_result",
          "data": {
            "text/plain": [
              "0    737\n",
              "1     22\n",
              "2     62\n",
              "3     14\n",
              "4     31\n",
              "Name: hits, dtype: int64"
            ]
          },
          "metadata": {
            "tags": []
          },
          "execution_count": 146
        }
      ]
    },
    {
      "cell_type": "code",
      "metadata": {
        "id": "wynh1mhC8DaM",
        "colab_type": "code",
        "colab": {
          "base_uri": "https://localhost:8080/",
          "height": 127
        },
        "outputId": "f5e8a7cb-2a44-499b-bc11-52731e44bdfe"
      },
      "source": [
        "volunteer['hits'].astype('int').head()"
      ],
      "execution_count": 147,
      "outputs": [
        {
          "output_type": "execute_result",
          "data": {
            "text/plain": [
              "0    737\n",
              "1     22\n",
              "2     62\n",
              "3     14\n",
              "4     31\n",
              "Name: hits, dtype: int64"
            ]
          },
          "metadata": {
            "tags": []
          },
          "execution_count": 147
        }
      ]
    },
    {
      "cell_type": "markdown",
      "metadata": {
        "id": "RiU3nsPy8OIy",
        "colab_type": "text"
      },
      "source": [
        "#### Stratified sampling\n",
        "\n",
        "We know that the distribution of variables in the category_desc column in the volunteer dataset is uneven. If we wanted to train a model to try to predict category_desc, we would want to train the model on a sample of data that is representative of the entire dataset. Stratified sampling is a way to achieve this."
      ]
    },
    {
      "cell_type": "code",
      "metadata": {
        "id": "BgoEdRrR8Zu2",
        "colab_type": "code",
        "colab": {}
      },
      "source": [
        "volunteer_X = volunteer_subset.drop(columns='category_desc')\n",
        "\n",
        "volunteer_y = volunteer_subset[['category_desc']]\n"
      ],
      "execution_count": 0,
      "outputs": []
    },
    {
      "cell_type": "code",
      "metadata": {
        "id": "TFUrCleQ8pt9",
        "colab_type": "code",
        "colab": {}
      },
      "source": [
        "from sklearn.model_selection import train_test_split"
      ],
      "execution_count": 0,
      "outputs": []
    },
    {
      "cell_type": "markdown",
      "metadata": {
        "id": "sbwu4NBk9k_4",
        "colab_type": "text"
      },
      "source": [
        "Use stratified sampling to split up the dataset according to the volunteer_y dataset"
      ]
    },
    {
      "cell_type": "code",
      "metadata": {
        "id": "dyLe8qXG9fw5",
        "colab_type": "code",
        "colab": {}
      },
      "source": [
        "X_train, X_test, y_train, y_test = train_test_split(volunteer_X, volunteer_y, stratify=volunteer_y)"
      ],
      "execution_count": 0,
      "outputs": []
    },
    {
      "cell_type": "markdown",
      "metadata": {
        "id": "l6Vem02D9ogY",
        "colab_type": "text"
      },
      "source": [
        "Print out the category_desc counts on the training y labels"
      ]
    },
    {
      "cell_type": "code",
      "metadata": {
        "id": "4dFSGxyh9zGN",
        "colab_type": "code",
        "colab": {
          "base_uri": "https://localhost:8080/",
          "height": 146
        },
        "outputId": "3dcf4b4b-e30c-40f2-876e-a6374a97c9b2"
      },
      "source": [
        "y_train['category_desc'].value_counts()"
      ],
      "execution_count": 151,
      "outputs": [
        {
          "output_type": "execute_result",
          "data": {
            "text/plain": [
              "Strengthening Communities    230\n",
              "Helping Neighbors in Need     89\n",
              "Education                     69\n",
              "Health                        39\n",
              "Environment                   24\n",
              "Emergency Preparedness        11\n",
              "Name: category_desc, dtype: int64"
            ]
          },
          "metadata": {
            "tags": []
          },
          "execution_count": 151
        }
      ]
    },
    {
      "cell_type": "markdown",
      "metadata": {
        "id": "xQu8Btey92HP",
        "colab_type": "text"
      },
      "source": [
        "### Part 2 - Standardizing Data"
      ]
    },
    {
      "cell_type": "markdown",
      "metadata": {
        "id": "qhFUhGaS-OMn",
        "colab_type": "text"
      },
      "source": [
        "#### Modeling without normalizing\n",
        "\n",
        "Let's take a look at what might happen to your model's accuracy if you try to model data without doing some sort of standardization first. Here we have a subset of the wine dataset. One of the columns, Proline, has an extremely high variance compared to the other columns. This is an example of where a technique like log normalization would come in handy, which you'll learn about in the next section.\n",
        "\n",
        "The scikit-learn model training process should be familiar to you at this point, so we won't go too in-depth with it. You already have a k-nearest neighbors model available (knn) as well as the X and y sets you need to fit and score on."
      ]
    },
    {
      "cell_type": "code",
      "metadata": {
        "id": "b07ALd9l-Wkn",
        "colab_type": "code",
        "colab": {}
      },
      "source": [
        "wine_X = wine[['Proline', 'Total phenols', 'Hue', 'Nonflavanoid phenols']]\n",
        "wine_y = wine[['Type']]"
      ],
      "execution_count": 0,
      "outputs": []
    },
    {
      "cell_type": "code",
      "metadata": {
        "id": "xN0iXfUr_fPI",
        "colab_type": "code",
        "colab": {
          "base_uri": "https://localhost:8080/",
          "height": 54
        },
        "outputId": "4e2fb69c-0452-4f8b-98f4-92e2d6404742"
      },
      "source": [
        "print(wine_y.shape)\n",
        "print(wine_X.shape)"
      ],
      "execution_count": 153,
      "outputs": [
        {
          "output_type": "stream",
          "text": [
            "(178, 1)\n",
            "(178, 4)\n"
          ],
          "name": "stdout"
        }
      ]
    },
    {
      "cell_type": "code",
      "metadata": {
        "id": "Uoa39S0k-kzn",
        "colab_type": "code",
        "colab": {
          "base_uri": "https://localhost:8080/",
          "height": 92
        },
        "outputId": "5f791432-6882-41e9-d979-95c652255003"
      },
      "source": [
        "from sklearn.neighbors import KNeighborsClassifier\n",
        "\n",
        "knn = KNeighborsClassifier(algorithm='auto', leaf_size=30, metric='minkowski',\n",
        "           metric_params=None, n_jobs=1, n_neighbors=5, p=2,\n",
        "           weights='uniform')\n",
        "\n",
        "X_train, X_test, y_train, y_test = train_test_split(wine_X.values, wine_y.values)\n",
        "\n",
        "knn.fit(X_train, y_train)\n",
        "\n",
        "score = knn.score(X_test, y_test)\n",
        "print(score)"
      ],
      "execution_count": 154,
      "outputs": [
        {
          "output_type": "stream",
          "text": [
            "0.6666666666666666\n"
          ],
          "name": "stdout"
        },
        {
          "output_type": "stream",
          "text": [
            "/usr/local/lib/python3.6/dist-packages/ipykernel_launcher.py:9: DataConversionWarning: A column-vector y was passed when a 1d array was expected. Please change the shape of y to (n_samples, ), for example using ravel().\n",
            "  if __name__ == '__main__':\n"
          ],
          "name": "stderr"
        }
      ]
    },
    {
      "cell_type": "code",
      "metadata": {
        "id": "aa1k2bex_ZXX",
        "colab_type": "code",
        "colab": {
          "base_uri": "https://localhost:8080/",
          "height": 109
        },
        "outputId": "17b8afa2-fa96-4382-dd66-6410fbbc9775"
      },
      "source": [
        "wine_X.apply(lambda x: np.std(x))"
      ],
      "execution_count": 155,
      "outputs": [
        {
          "output_type": "execute_result",
          "data": {
            "text/plain": [
              "Proline                 314.021657\n",
              "Total phenols             0.624091\n",
              "Hue                       0.227929\n",
              "Nonflavanoid phenols      0.124103\n",
              "dtype: float64"
            ]
          },
          "metadata": {
            "tags": []
          },
          "execution_count": 155
        }
      ]
    },
    {
      "cell_type": "markdown",
      "metadata": {
        "id": "iAomFO6o_qVt",
        "colab_type": "text"
      },
      "source": [
        "#### Log normalization in Python\n",
        "\n",
        "Now that we know that the Proline column in our wine dataset has a large amount of variance, let's log normalize it."
      ]
    },
    {
      "cell_type": "code",
      "metadata": {
        "id": "Oy8QJDlMKAYe",
        "colab_type": "code",
        "colab": {}
      },
      "source": [
        "wine['Proline_log'] = np.log(wine_X.loc[:,'Proline'])"
      ],
      "execution_count": 0,
      "outputs": []
    },
    {
      "cell_type": "code",
      "metadata": {
        "id": "OEzTKhkPLG0g",
        "colab_type": "code",
        "colab": {
          "base_uri": "https://localhost:8080/",
          "height": 109
        },
        "outputId": "27953b63-1342-46a6-bf50-facb986148ac"
      },
      "source": [
        "wine_X.apply(lambda x: np.std(x))"
      ],
      "execution_count": 157,
      "outputs": [
        {
          "output_type": "execute_result",
          "data": {
            "text/plain": [
              "Proline                 314.021657\n",
              "Total phenols             0.624091\n",
              "Hue                       0.227929\n",
              "Nonflavanoid phenols      0.124103\n",
              "dtype: float64"
            ]
          },
          "metadata": {
            "tags": []
          },
          "execution_count": 157
        }
      ]
    },
    {
      "cell_type": "markdown",
      "metadata": {
        "id": "onz9tAmESwgO",
        "colab_type": "text"
      },
      "source": [
        "#### Scaling data - standardizing columns\n",
        "\n",
        "Since we know that the Ash, Alcalinity of ash, and Magnesium columns in the wine dataset are all on different scales, let's standardize them in a way that allows for use in a linear model."
      ]
    },
    {
      "cell_type": "code",
      "metadata": {
        "id": "kbC6HUG6U85q",
        "colab_type": "code",
        "colab": {}
      },
      "source": [
        "from sklearn.preprocessing import StandardScaler\n",
        "\n",
        "ss = StandardScaler()\n",
        "\n",
        "wine_subset = wine[[\"Ash\", \"Alcalinity of ash\", \"Magnesium\"]].copy()\n",
        "\n",
        "wine_subset_scaled = ss.fit_transform(wine_subset)\n"
      ],
      "execution_count": 0,
      "outputs": []
    },
    {
      "cell_type": "markdown",
      "metadata": {
        "id": "yUzaWO-EVUbX",
        "colab_type": "text"
      },
      "source": [
        "#### KNN on non-scaled data\n",
        "\n",
        "Let's first take a look at the accuracy of a K-nearest neighbors model on the wine dataset without standardizing the data. "
      ]
    },
    {
      "cell_type": "code",
      "metadata": {
        "id": "5Q6C6Pj2ZF7b",
        "colab_type": "code",
        "colab": {
          "base_uri": "https://localhost:8080/",
          "height": 92
        },
        "outputId": "5e0ffd13-ffa0-4305-dd78-2e1f42392116"
      },
      "source": [
        "knn.fit(X_train, y_train)\n",
        "print(knn.score(X_test, y_test))"
      ],
      "execution_count": 159,
      "outputs": [
        {
          "output_type": "stream",
          "text": [
            "0.6666666666666666\n"
          ],
          "name": "stdout"
        },
        {
          "output_type": "stream",
          "text": [
            "/usr/local/lib/python3.6/dist-packages/ipykernel_launcher.py:1: DataConversionWarning: A column-vector y was passed when a 1d array was expected. Please change the shape of y to (n_samples, ), for example using ravel().\n",
            "  \"\"\"Entry point for launching an IPython kernel.\n"
          ],
          "name": "stderr"
        }
      ]
    },
    {
      "cell_type": "markdown",
      "metadata": {
        "id": "6YTeKcSlZTtZ",
        "colab_type": "text"
      },
      "source": [
        "#### KNN on scaled data\n",
        "\n",
        "The accuracy score on the unscaled wine dataset was decent, but we can likely do better if we scale the dataset. The process is mostly the same as the previous exercise, with the added step of scaling the data. Once again, the knn model as well as the X and y data and labels set have already been created for you."
      ]
    },
    {
      "cell_type": "code",
      "metadata": {
        "id": "RQFHjF9dflZ9",
        "colab_type": "code",
        "colab": {
          "base_uri": "https://localhost:8080/",
          "height": 35
        },
        "outputId": "fd688dda-1593-45af-b5e5-f1a93aa822d7"
      },
      "source": [
        "ss = StandardScaler()\n",
        "\n",
        "X_scaled = ss.fit_transform(wine.drop(columns='Type'))\n",
        "y = wine['Type']\n",
        "\n",
        "\n",
        "X_train, X_test, y_train, y_test = train_test_split(X_scaled, y)\n",
        "\n",
        "knn.fit(X_train, y_train)\n",
        "\n",
        "print(knn.score(X_test, y_test))"
      ],
      "execution_count": 160,
      "outputs": [
        {
          "output_type": "stream",
          "text": [
            "0.9555555555555556\n"
          ],
          "name": "stdout"
        }
      ]
    },
    {
      "cell_type": "markdown",
      "metadata": {
        "id": "9UHwG_KBf0Bu",
        "colab_type": "text"
      },
      "source": [
        "We can see that our accuracy has been increased substantially."
      ]
    },
    {
      "cell_type": "markdown",
      "metadata": {
        "id": "n-EpeYtLgMeq",
        "colab_type": "text"
      },
      "source": [
        "#### Part 3 - Feature Engineering"
      ]
    },
    {
      "cell_type": "markdown",
      "metadata": {
        "id": "qqk4pRLzgbGs",
        "colab_type": "text"
      },
      "source": [
        "#### Encoding categorical variables - binary\n",
        "\n",
        "Take a look at the hiking dataset. There are several columns here that need encoding, one of which is the Accessible column, which needs to be encoded in order to be modeled. Accessible is a binary feature, so it has two values - either Y or N - so it needs to be encoded into 1s and 0s. Use scikit-learn's LabelEncoder method to do that transformation."
      ]
    },
    {
      "cell_type": "code",
      "metadata": {
        "id": "-r-BRYjPieqY",
        "colab_type": "code",
        "colab": {}
      },
      "source": [
        "from sklearn.preprocessing import LabelEncoder\n",
        "enc = LabelEncoder()"
      ],
      "execution_count": 0,
      "outputs": []
    },
    {
      "cell_type": "code",
      "metadata": {
        "id": "rCJ5a7Y1gmIR",
        "colab_type": "code",
        "colab": {
          "base_uri": "https://localhost:8080/",
          "height": 476
        },
        "outputId": "7c3638d6-72f0-418f-e822-44e67ba1e2d5"
      },
      "source": [
        "hiking.head(3)"
      ],
      "execution_count": 162,
      "outputs": [
        {
          "output_type": "execute_result",
          "data": {
            "text/html": [
              "<div>\n",
              "<style scoped>\n",
              "    .dataframe tbody tr th:only-of-type {\n",
              "        vertical-align: middle;\n",
              "    }\n",
              "\n",
              "    .dataframe tbody tr th {\n",
              "        vertical-align: top;\n",
              "    }\n",
              "\n",
              "    .dataframe thead th {\n",
              "        text-align: right;\n",
              "    }\n",
              "</style>\n",
              "<table border=\"1\" class=\"dataframe\">\n",
              "  <thead>\n",
              "    <tr style=\"text-align: right;\">\n",
              "      <th></th>\n",
              "      <th>Prop_ID</th>\n",
              "      <th>Name</th>\n",
              "      <th>Location</th>\n",
              "      <th>Park_Name</th>\n",
              "      <th>Length</th>\n",
              "      <th>Difficulty</th>\n",
              "      <th>Other_Details</th>\n",
              "      <th>Accessible</th>\n",
              "      <th>Limited_Access</th>\n",
              "      <th>lat</th>\n",
              "      <th>lon</th>\n",
              "    </tr>\n",
              "  </thead>\n",
              "  <tbody>\n",
              "    <tr>\n",
              "      <th>0</th>\n",
              "      <td>B057</td>\n",
              "      <td>Salt Marsh Nature Trail</td>\n",
              "      <td>Enter behind the Salt Marsh Nature Center, loc...</td>\n",
              "      <td>Marine Park</td>\n",
              "      <td>0.8 miles</td>\n",
              "      <td>None</td>\n",
              "      <td>&lt;p&gt;The first half of this mile-long trail foll...</td>\n",
              "      <td>Y</td>\n",
              "      <td>N</td>\n",
              "      <td>NaN</td>\n",
              "      <td>NaN</td>\n",
              "    </tr>\n",
              "    <tr>\n",
              "      <th>1</th>\n",
              "      <td>B073</td>\n",
              "      <td>Lullwater</td>\n",
              "      <td>Enter Park at Lincoln Road and Ocean Avenue en...</td>\n",
              "      <td>Prospect Park</td>\n",
              "      <td>1.0 mile</td>\n",
              "      <td>Easy</td>\n",
              "      <td>Explore the Lullwater to see how nature thrive...</td>\n",
              "      <td>N</td>\n",
              "      <td>N</td>\n",
              "      <td>NaN</td>\n",
              "      <td>NaN</td>\n",
              "    </tr>\n",
              "    <tr>\n",
              "      <th>2</th>\n",
              "      <td>B073</td>\n",
              "      <td>Midwood</td>\n",
              "      <td>Enter Park at Lincoln Road and Ocean Avenue en...</td>\n",
              "      <td>Prospect Park</td>\n",
              "      <td>0.75 miles</td>\n",
              "      <td>Easy</td>\n",
              "      <td>Step back in time with a walk through Brooklyn...</td>\n",
              "      <td>N</td>\n",
              "      <td>N</td>\n",
              "      <td>NaN</td>\n",
              "      <td>NaN</td>\n",
              "    </tr>\n",
              "  </tbody>\n",
              "</table>\n",
              "</div>"
            ],
            "text/plain": [
              "  Prop_ID                     Name  ... lat lon\n",
              "0    B057  Salt Marsh Nature Trail  ... NaN NaN\n",
              "1    B073                Lullwater  ... NaN NaN\n",
              "2    B073                  Midwood  ... NaN NaN\n",
              "\n",
              "[3 rows x 11 columns]"
            ]
          },
          "metadata": {
            "tags": []
          },
          "execution_count": 162
        }
      ]
    },
    {
      "cell_type": "code",
      "metadata": {
        "id": "0pNh2-7fh9Td",
        "colab_type": "code",
        "colab": {}
      },
      "source": [
        "hiking['Accessible_enc'] = enc.fit_transform(hiking['Accessible'])"
      ],
      "execution_count": 0,
      "outputs": []
    },
    {
      "cell_type": "code",
      "metadata": {
        "id": "51RCNdZpiWdQ",
        "colab_type": "code",
        "colab": {
          "base_uri": "https://localhost:8080/",
          "height": 127
        },
        "outputId": "3d129481-a5c3-4878-b9dd-31c29faed4f6"
      },
      "source": [
        "print(hiking[[\"Accessible_enc\", \"Accessible\"]].head())"
      ],
      "execution_count": 164,
      "outputs": [
        {
          "output_type": "stream",
          "text": [
            "   Accessible_enc Accessible\n",
            "0               1          Y\n",
            "1               0          N\n",
            "2               0          N\n",
            "3               0          N\n",
            "4               0          N\n"
          ],
          "name": "stdout"
        }
      ]
    },
    {
      "cell_type": "markdown",
      "metadata": {
        "id": "pLD9uLHkivgV",
        "colab_type": "text"
      },
      "source": [
        "#### Encoding categorical variables - one-hot\n",
        "\n",
        "One of the columns in the volunteer dataset, category_desc, gives category descriptions for the volunteer opportunities listed. Because it is a categorical variable with more than two categories, we need to use one-hot encoding to transform this column numerically. Use Pandas' get_dummies() function to do so."
      ]
    },
    {
      "cell_type": "code",
      "metadata": {
        "id": "skEK9u1qiyzu",
        "colab_type": "code",
        "colab": {
          "base_uri": "https://localhost:8080/",
          "height": 224
        },
        "outputId": "a9ec13a2-b898-4655-9732-3aecaaf028fa"
      },
      "source": [
        "category_enc = pd.get_dummies(volunteer['category_desc'])\n",
        "\n",
        "category_enc.head()"
      ],
      "execution_count": 165,
      "outputs": [
        {
          "output_type": "execute_result",
          "data": {
            "text/html": [
              "<div>\n",
              "<style scoped>\n",
              "    .dataframe tbody tr th:only-of-type {\n",
              "        vertical-align: middle;\n",
              "    }\n",
              "\n",
              "    .dataframe tbody tr th {\n",
              "        vertical-align: top;\n",
              "    }\n",
              "\n",
              "    .dataframe thead th {\n",
              "        text-align: right;\n",
              "    }\n",
              "</style>\n",
              "<table border=\"1\" class=\"dataframe\">\n",
              "  <thead>\n",
              "    <tr style=\"text-align: right;\">\n",
              "      <th></th>\n",
              "      <th>Education</th>\n",
              "      <th>Emergency Preparedness</th>\n",
              "      <th>Environment</th>\n",
              "      <th>Health</th>\n",
              "      <th>Helping Neighbors in Need</th>\n",
              "      <th>Strengthening Communities</th>\n",
              "    </tr>\n",
              "  </thead>\n",
              "  <tbody>\n",
              "    <tr>\n",
              "      <th>0</th>\n",
              "      <td>0</td>\n",
              "      <td>0</td>\n",
              "      <td>0</td>\n",
              "      <td>0</td>\n",
              "      <td>0</td>\n",
              "      <td>0</td>\n",
              "    </tr>\n",
              "    <tr>\n",
              "      <th>1</th>\n",
              "      <td>0</td>\n",
              "      <td>0</td>\n",
              "      <td>0</td>\n",
              "      <td>0</td>\n",
              "      <td>0</td>\n",
              "      <td>1</td>\n",
              "    </tr>\n",
              "    <tr>\n",
              "      <th>2</th>\n",
              "      <td>0</td>\n",
              "      <td>0</td>\n",
              "      <td>0</td>\n",
              "      <td>0</td>\n",
              "      <td>0</td>\n",
              "      <td>1</td>\n",
              "    </tr>\n",
              "    <tr>\n",
              "      <th>3</th>\n",
              "      <td>0</td>\n",
              "      <td>0</td>\n",
              "      <td>0</td>\n",
              "      <td>0</td>\n",
              "      <td>0</td>\n",
              "      <td>1</td>\n",
              "    </tr>\n",
              "    <tr>\n",
              "      <th>4</th>\n",
              "      <td>0</td>\n",
              "      <td>0</td>\n",
              "      <td>1</td>\n",
              "      <td>0</td>\n",
              "      <td>0</td>\n",
              "      <td>0</td>\n",
              "    </tr>\n",
              "  </tbody>\n",
              "</table>\n",
              "</div>"
            ],
            "text/plain": [
              "   Education  ...  Strengthening Communities\n",
              "0          0  ...                          0\n",
              "1          0  ...                          1\n",
              "2          0  ...                          1\n",
              "3          0  ...                          1\n",
              "4          0  ...                          0\n",
              "\n",
              "[5 rows x 6 columns]"
            ]
          },
          "metadata": {
            "tags": []
          },
          "execution_count": 165
        }
      ]
    },
    {
      "cell_type": "markdown",
      "metadata": {
        "id": "z_X2CM07jGyM",
        "colab_type": "text"
      },
      "source": [
        "#### Engineering numerical features - taking an average\n",
        "\n",
        "A good use case for taking an aggregate statistic to create a new feature is to take the mean of columns. Here, you have a DataFrame of running times named running_times_5k. For each name in the dataset, take the mean of their 5 run times."
      ]
    },
    {
      "cell_type": "code",
      "metadata": {
        "id": "NztbQpEBjRc5",
        "colab_type": "code",
        "colab": {}
      },
      "source": [
        "running_dict = {'name': ['Sue', 'Mark', 'Sean', 'Erin', 'Jenny', 'Russell'],\n",
        " 'run1': [20.1, 16.5, 23.5, 21.7, 25.8, 30.9],\n",
        " 'run2': [18.5, 17.1, 25.1, 21.1, 27.1, 29.6],\n",
        " 'run3': [19.6, 16.9, 25.2, 20.9, 26.1, 31.4],\n",
        " 'run4': [20.3, 17.6, 24.6, 22.1, 26.7, 30.4],\n",
        " 'run5': [18.3, 17.3, 23.9, 22.2, 26.9, 29.9]}\n",
        "\n",
        "running_time = pd.DataFrame(running_dict)"
      ],
      "execution_count": 0,
      "outputs": []
    },
    {
      "cell_type": "code",
      "metadata": {
        "id": "-VDMS7velwWd",
        "colab_type": "code",
        "colab": {
          "base_uri": "https://localhost:8080/",
          "height": 238
        },
        "outputId": "d030a2fe-8276-4e57-9ad7-5e687dbc6f9c"
      },
      "source": [
        "running_time"
      ],
      "execution_count": 167,
      "outputs": [
        {
          "output_type": "execute_result",
          "data": {
            "text/html": [
              "<div>\n",
              "<style scoped>\n",
              "    .dataframe tbody tr th:only-of-type {\n",
              "        vertical-align: middle;\n",
              "    }\n",
              "\n",
              "    .dataframe tbody tr th {\n",
              "        vertical-align: top;\n",
              "    }\n",
              "\n",
              "    .dataframe thead th {\n",
              "        text-align: right;\n",
              "    }\n",
              "</style>\n",
              "<table border=\"1\" class=\"dataframe\">\n",
              "  <thead>\n",
              "    <tr style=\"text-align: right;\">\n",
              "      <th></th>\n",
              "      <th>name</th>\n",
              "      <th>run1</th>\n",
              "      <th>run2</th>\n",
              "      <th>run3</th>\n",
              "      <th>run4</th>\n",
              "      <th>run5</th>\n",
              "    </tr>\n",
              "  </thead>\n",
              "  <tbody>\n",
              "    <tr>\n",
              "      <th>0</th>\n",
              "      <td>Sue</td>\n",
              "      <td>20.1</td>\n",
              "      <td>18.5</td>\n",
              "      <td>19.6</td>\n",
              "      <td>20.3</td>\n",
              "      <td>18.3</td>\n",
              "    </tr>\n",
              "    <tr>\n",
              "      <th>1</th>\n",
              "      <td>Mark</td>\n",
              "      <td>16.5</td>\n",
              "      <td>17.1</td>\n",
              "      <td>16.9</td>\n",
              "      <td>17.6</td>\n",
              "      <td>17.3</td>\n",
              "    </tr>\n",
              "    <tr>\n",
              "      <th>2</th>\n",
              "      <td>Sean</td>\n",
              "      <td>23.5</td>\n",
              "      <td>25.1</td>\n",
              "      <td>25.2</td>\n",
              "      <td>24.6</td>\n",
              "      <td>23.9</td>\n",
              "    </tr>\n",
              "    <tr>\n",
              "      <th>3</th>\n",
              "      <td>Erin</td>\n",
              "      <td>21.7</td>\n",
              "      <td>21.1</td>\n",
              "      <td>20.9</td>\n",
              "      <td>22.1</td>\n",
              "      <td>22.2</td>\n",
              "    </tr>\n",
              "    <tr>\n",
              "      <th>4</th>\n",
              "      <td>Jenny</td>\n",
              "      <td>25.8</td>\n",
              "      <td>27.1</td>\n",
              "      <td>26.1</td>\n",
              "      <td>26.7</td>\n",
              "      <td>26.9</td>\n",
              "    </tr>\n",
              "    <tr>\n",
              "      <th>5</th>\n",
              "      <td>Russell</td>\n",
              "      <td>30.9</td>\n",
              "      <td>29.6</td>\n",
              "      <td>31.4</td>\n",
              "      <td>30.4</td>\n",
              "      <td>29.9</td>\n",
              "    </tr>\n",
              "  </tbody>\n",
              "</table>\n",
              "</div>"
            ],
            "text/plain": [
              "      name  run1  run2  run3  run4  run5\n",
              "0      Sue  20.1  18.5  19.6  20.3  18.3\n",
              "1     Mark  16.5  17.1  16.9  17.6  17.3\n",
              "2     Sean  23.5  25.1  25.2  24.6  23.9\n",
              "3     Erin  21.7  21.1  20.9  22.1  22.2\n",
              "4    Jenny  25.8  27.1  26.1  26.7  26.9\n",
              "5  Russell  30.9  29.6  31.4  30.4  29.9"
            ]
          },
          "metadata": {
            "tags": []
          },
          "execution_count": 167
        }
      ]
    },
    {
      "cell_type": "code",
      "metadata": {
        "id": "XLXKuuDflxnk",
        "colab_type": "code",
        "colab": {}
      },
      "source": [
        "running_time[\"mean\"] = running_time.mean(axis=1)"
      ],
      "execution_count": 0,
      "outputs": []
    },
    {
      "cell_type": "code",
      "metadata": {
        "id": "pn7ayYTHmBFL",
        "colab_type": "code",
        "colab": {
          "base_uri": "https://localhost:8080/",
          "height": 238
        },
        "outputId": "009daec4-f621-43c3-96ca-77428f853865"
      },
      "source": [
        "running_time"
      ],
      "execution_count": 169,
      "outputs": [
        {
          "output_type": "execute_result",
          "data": {
            "text/html": [
              "<div>\n",
              "<style scoped>\n",
              "    .dataframe tbody tr th:only-of-type {\n",
              "        vertical-align: middle;\n",
              "    }\n",
              "\n",
              "    .dataframe tbody tr th {\n",
              "        vertical-align: top;\n",
              "    }\n",
              "\n",
              "    .dataframe thead th {\n",
              "        text-align: right;\n",
              "    }\n",
              "</style>\n",
              "<table border=\"1\" class=\"dataframe\">\n",
              "  <thead>\n",
              "    <tr style=\"text-align: right;\">\n",
              "      <th></th>\n",
              "      <th>name</th>\n",
              "      <th>run1</th>\n",
              "      <th>run2</th>\n",
              "      <th>run3</th>\n",
              "      <th>run4</th>\n",
              "      <th>run5</th>\n",
              "      <th>mean</th>\n",
              "    </tr>\n",
              "  </thead>\n",
              "  <tbody>\n",
              "    <tr>\n",
              "      <th>0</th>\n",
              "      <td>Sue</td>\n",
              "      <td>20.1</td>\n",
              "      <td>18.5</td>\n",
              "      <td>19.6</td>\n",
              "      <td>20.3</td>\n",
              "      <td>18.3</td>\n",
              "      <td>19.36</td>\n",
              "    </tr>\n",
              "    <tr>\n",
              "      <th>1</th>\n",
              "      <td>Mark</td>\n",
              "      <td>16.5</td>\n",
              "      <td>17.1</td>\n",
              "      <td>16.9</td>\n",
              "      <td>17.6</td>\n",
              "      <td>17.3</td>\n",
              "      <td>17.08</td>\n",
              "    </tr>\n",
              "    <tr>\n",
              "      <th>2</th>\n",
              "      <td>Sean</td>\n",
              "      <td>23.5</td>\n",
              "      <td>25.1</td>\n",
              "      <td>25.2</td>\n",
              "      <td>24.6</td>\n",
              "      <td>23.9</td>\n",
              "      <td>24.46</td>\n",
              "    </tr>\n",
              "    <tr>\n",
              "      <th>3</th>\n",
              "      <td>Erin</td>\n",
              "      <td>21.7</td>\n",
              "      <td>21.1</td>\n",
              "      <td>20.9</td>\n",
              "      <td>22.1</td>\n",
              "      <td>22.2</td>\n",
              "      <td>21.60</td>\n",
              "    </tr>\n",
              "    <tr>\n",
              "      <th>4</th>\n",
              "      <td>Jenny</td>\n",
              "      <td>25.8</td>\n",
              "      <td>27.1</td>\n",
              "      <td>26.1</td>\n",
              "      <td>26.7</td>\n",
              "      <td>26.9</td>\n",
              "      <td>26.52</td>\n",
              "    </tr>\n",
              "    <tr>\n",
              "      <th>5</th>\n",
              "      <td>Russell</td>\n",
              "      <td>30.9</td>\n",
              "      <td>29.6</td>\n",
              "      <td>31.4</td>\n",
              "      <td>30.4</td>\n",
              "      <td>29.9</td>\n",
              "      <td>30.44</td>\n",
              "    </tr>\n",
              "  </tbody>\n",
              "</table>\n",
              "</div>"
            ],
            "text/plain": [
              "      name  run1  run2  run3  run4  run5   mean\n",
              "0      Sue  20.1  18.5  19.6  20.3  18.3  19.36\n",
              "1     Mark  16.5  17.1  16.9  17.6  17.3  17.08\n",
              "2     Sean  23.5  25.1  25.2  24.6  23.9  24.46\n",
              "3     Erin  21.7  21.1  20.9  22.1  22.2  21.60\n",
              "4    Jenny  25.8  27.1  26.1  26.7  26.9  26.52\n",
              "5  Russell  30.9  29.6  31.4  30.4  29.9  30.44"
            ]
          },
          "metadata": {
            "tags": []
          },
          "execution_count": 169
        }
      ]
    },
    {
      "cell_type": "markdown",
      "metadata": {
        "id": "PYyO4kzimNti",
        "colab_type": "text"
      },
      "source": [
        "#### Engineering numerical features - datetime\n",
        "\n",
        "There are several columns in the volunteer dataset comprised of datetimes. Let's take a look at the start_date_date column and extract just the month to use as a feature for modeling."
      ]
    },
    {
      "cell_type": "code",
      "metadata": {
        "id": "XwT0KZOPmVDB",
        "colab_type": "code",
        "colab": {}
      },
      "source": [
        "volunteer[\"start_date_converted\"] = pd.to_datetime(volunteer['start_date_date'])"
      ],
      "execution_count": 0,
      "outputs": []
    },
    {
      "cell_type": "code",
      "metadata": {
        "id": "UfQRMYU9mcA5",
        "colab_type": "code",
        "colab": {}
      },
      "source": [
        "volunteer['start_date_month'] = volunteer['start_date_converted'].apply(lambda row: row.month)"
      ],
      "execution_count": 0,
      "outputs": []
    },
    {
      "cell_type": "code",
      "metadata": {
        "id": "JbGA_ZhfnI39",
        "colab_type": "code",
        "colab": {
          "base_uri": "https://localhost:8080/",
          "height": 206
        },
        "outputId": "a96c4037-8fe0-416d-973b-4f1b5faea08a"
      },
      "source": [
        "volunteer[[\"start_date_converted\", \"start_date_month\"]].head()"
      ],
      "execution_count": 172,
      "outputs": [
        {
          "output_type": "execute_result",
          "data": {
            "text/html": [
              "<div>\n",
              "<style scoped>\n",
              "    .dataframe tbody tr th:only-of-type {\n",
              "        vertical-align: middle;\n",
              "    }\n",
              "\n",
              "    .dataframe tbody tr th {\n",
              "        vertical-align: top;\n",
              "    }\n",
              "\n",
              "    .dataframe thead th {\n",
              "        text-align: right;\n",
              "    }\n",
              "</style>\n",
              "<table border=\"1\" class=\"dataframe\">\n",
              "  <thead>\n",
              "    <tr style=\"text-align: right;\">\n",
              "      <th></th>\n",
              "      <th>start_date_converted</th>\n",
              "      <th>start_date_month</th>\n",
              "    </tr>\n",
              "  </thead>\n",
              "  <tbody>\n",
              "    <tr>\n",
              "      <th>0</th>\n",
              "      <td>2011-07-30</td>\n",
              "      <td>7</td>\n",
              "    </tr>\n",
              "    <tr>\n",
              "      <th>1</th>\n",
              "      <td>2011-02-01</td>\n",
              "      <td>2</td>\n",
              "    </tr>\n",
              "    <tr>\n",
              "      <th>2</th>\n",
              "      <td>2011-01-29</td>\n",
              "      <td>1</td>\n",
              "    </tr>\n",
              "    <tr>\n",
              "      <th>3</th>\n",
              "      <td>2011-02-14</td>\n",
              "      <td>2</td>\n",
              "    </tr>\n",
              "    <tr>\n",
              "      <th>4</th>\n",
              "      <td>2011-02-05</td>\n",
              "      <td>2</td>\n",
              "    </tr>\n",
              "  </tbody>\n",
              "</table>\n",
              "</div>"
            ],
            "text/plain": [
              "  start_date_converted  start_date_month\n",
              "0           2011-07-30                 7\n",
              "1           2011-02-01                 2\n",
              "2           2011-01-29                 1\n",
              "3           2011-02-14                 2\n",
              "4           2011-02-05                 2"
            ]
          },
          "metadata": {
            "tags": []
          },
          "execution_count": 172
        }
      ]
    },
    {
      "cell_type": "markdown",
      "metadata": {
        "id": "rYEr3yiMn6bZ",
        "colab_type": "text"
      },
      "source": [
        "#### Engineering features from strings - extraction\n",
        "\n",
        "The Length column in the hiking dataset is a column of strings, but contained in the column is the mileage for the hike. We're going to extract this mileage using regular expressions, and then use a lambda in Pandas to apply the extraction to the DataFrame."
      ]
    },
    {
      "cell_type": "code",
      "metadata": {
        "id": "MR8VFCzxohOK",
        "colab_type": "code",
        "colab": {
          "base_uri": "https://localhost:8080/",
          "height": 127
        },
        "outputId": "604ec518-392b-4cdc-ce9d-a5e7fbab729e"
      },
      "source": [
        "hiking['Length'].head()"
      ],
      "execution_count": 173,
      "outputs": [
        {
          "output_type": "execute_result",
          "data": {
            "text/plain": [
              "0     0.8 miles\n",
              "1      1.0 mile\n",
              "2    0.75 miles\n",
              "3     0.5 miles\n",
              "4     0.5 miles\n",
              "Name: Length, dtype: object"
            ]
          },
          "metadata": {
            "tags": []
          },
          "execution_count": 173
        }
      ]
    },
    {
      "cell_type": "code",
      "metadata": {
        "id": "qKsi-OC6oyKE",
        "colab_type": "code",
        "colab": {}
      },
      "source": [
        "import re\n",
        "pattern = re.compile(r\"\\d+\\.\\d+\")\n",
        "\n",
        "# We need to convert the Lenght to str\n",
        "\n",
        "length = [str(i) for i in hiking['Length']]\n",
        "\n",
        "hiking['Length'] = length"
      ],
      "execution_count": 0,
      "outputs": []
    },
    {
      "cell_type": "code",
      "metadata": {
        "id": "zNsHD0_F3Tp-",
        "colab_type": "code",
        "colab": {
          "base_uri": "https://localhost:8080/",
          "height": 127
        },
        "outputId": "313f4f40-e29a-43f8-985f-81101dcead16"
      },
      "source": [
        "def return_mileage(length):\n",
        "    pattern = re.compile(r\"\\d+\\.\\d+\")\n",
        "    \n",
        "    # Search the text for matches\n",
        "    mile = re.match(pattern, length)\n",
        "    \n",
        "    # If a value is returned, use group(0) to return the found value\n",
        "    if mile is not None:\n",
        "        return float(mile.group(0))\n",
        "        \n",
        "# Apply the function to the Length column and take a look at both columns\n",
        "hiking[\"Length_num\"] = hiking[\"Length\"].apply(lambda row: return_mileage(row))\n",
        "print(hiking[[\"Length\", \"Length_num\"]].head())"
      ],
      "execution_count": 175,
      "outputs": [
        {
          "output_type": "stream",
          "text": [
            "       Length  Length_num\n",
            "0   0.8 miles        0.80\n",
            "1    1.0 mile        1.00\n",
            "2  0.75 miles        0.75\n",
            "3   0.5 miles        0.50\n",
            "4   0.5 miles        0.50\n"
          ],
          "name": "stdout"
        }
      ]
    },
    {
      "cell_type": "markdown",
      "metadata": {
        "id": "5WYK5xnd4cyQ",
        "colab_type": "text"
      },
      "source": [
        "#### Engineering features from strings - tf/idf\n",
        "\n",
        "Let's transform the volunteer dataset's title column into a text vector, to use in a prediction task in the next exercise."
      ]
    },
    {
      "cell_type": "code",
      "metadata": {
        "id": "4609JswR44LL",
        "colab_type": "code",
        "colab": {}
      },
      "source": [
        "from sklearn.feature_extraction.text import TfidfVectorizer\n",
        "\n",
        "title_text = volunteer['title']\n",
        "\n",
        "tfidf_vec = TfidfVectorizer()\n",
        "\n",
        "text_tfidf = tfidf_vec.fit_transform(title_text)"
      ],
      "execution_count": 0,
      "outputs": []
    },
    {
      "cell_type": "code",
      "metadata": {
        "id": "aYJo4H6W48Lz",
        "colab_type": "code",
        "colab": {
          "base_uri": "https://localhost:8080/",
          "height": 54
        },
        "outputId": "b4b3e97a-62b0-4e49-cc4e-cd0058712887"
      },
      "source": [
        "text_tfidf"
      ],
      "execution_count": 177,
      "outputs": [
        {
          "output_type": "execute_result",
          "data": {
            "text/plain": [
              "<665x1136 sparse matrix of type '<class 'numpy.float64'>'\n",
              "\twith 3397 stored elements in Compressed Sparse Row format>"
            ]
          },
          "metadata": {
            "tags": []
          },
          "execution_count": 177
        }
      ]
    },
    {
      "cell_type": "markdown",
      "metadata": {
        "id": "dLVl7R_R6dSO",
        "colab_type": "text"
      },
      "source": [
        "### Part 4 - Selecting features for modeling"
      ]
    },
    {
      "cell_type": "markdown",
      "metadata": {
        "id": "-4yRyFXu5_XX",
        "colab_type": "text"
      },
      "source": [
        "#### Selecting relevant features\n",
        "\n",
        "Now let's identify the redundant columns in the volunteer dataset and perform feature selection on the dataset to return a DataFrame of the relevant features.\n",
        "\n",
        "For example, if you explore the volunteer dataset in the console, you'll see three features which are related to location: locality, region, and postalcode. They contain repeated information, so it would make sense to keep only one of the features.\n",
        "\n",
        "There are also features that have gone through the feature engineering process: columns like Education and Emergency Preparedness are a product of encoding the categorical variable category_desc, so category_desc itself is redundant now.\n",
        "\n",
        "Take a moment to examine the features of volunteer in the console, and try to identify the redundant features."
      ]
    },
    {
      "cell_type": "code",
      "metadata": {
        "id": "5Y-VRdOF6qYh",
        "colab_type": "code",
        "colab": {
          "base_uri": "https://localhost:8080/",
          "height": 1000
        },
        "outputId": "74f99dd1-a046-41a7-cdd8-6dfe27db03e5"
      },
      "source": [
        "to_drop = [\"category_desc\", \"created_date\", \"locality\", \"region\", \"vol_requests\"]\n",
        "\n",
        "volunteer_subset = volunteer.drop(to_drop,\n",
        "                                  axis = 1)\n",
        "\n",
        "volunteer_subset.head(3).T"
      ],
      "execution_count": 178,
      "outputs": [
        {
          "output_type": "execute_result",
          "data": {
            "text/html": [
              "<div>\n",
              "<style scoped>\n",
              "    .dataframe tbody tr th:only-of-type {\n",
              "        vertical-align: middle;\n",
              "    }\n",
              "\n",
              "    .dataframe tbody tr th {\n",
              "        vertical-align: top;\n",
              "    }\n",
              "\n",
              "    .dataframe thead th {\n",
              "        text-align: right;\n",
              "    }\n",
              "</style>\n",
              "<table border=\"1\" class=\"dataframe\">\n",
              "  <thead>\n",
              "    <tr style=\"text-align: right;\">\n",
              "      <th></th>\n",
              "      <th>0</th>\n",
              "      <th>1</th>\n",
              "      <th>2</th>\n",
              "    </tr>\n",
              "  </thead>\n",
              "  <tbody>\n",
              "    <tr>\n",
              "      <th>opportunity_id</th>\n",
              "      <td>4996</td>\n",
              "      <td>5008</td>\n",
              "      <td>5016</td>\n",
              "    </tr>\n",
              "    <tr>\n",
              "      <th>content_id</th>\n",
              "      <td>37004</td>\n",
              "      <td>37036</td>\n",
              "      <td>37143</td>\n",
              "    </tr>\n",
              "    <tr>\n",
              "      <th>event_time</th>\n",
              "      <td>0</td>\n",
              "      <td>0</td>\n",
              "      <td>0</td>\n",
              "    </tr>\n",
              "    <tr>\n",
              "      <th>title</th>\n",
              "      <td>Volunteers Needed For Rise Up &amp; Stay Put! Home...</td>\n",
              "      <td>Web designer</td>\n",
              "      <td>Urban Adventures - Ice Skating at Lasker Rink</td>\n",
              "    </tr>\n",
              "    <tr>\n",
              "      <th>hits</th>\n",
              "      <td>737</td>\n",
              "      <td>22</td>\n",
              "      <td>62</td>\n",
              "    </tr>\n",
              "    <tr>\n",
              "      <th>summary</th>\n",
              "      <td>Building on successful events last summer and ...</td>\n",
              "      <td>Build a website for an Afghan business</td>\n",
              "      <td>Please join us and the students from Mott Hall...</td>\n",
              "    </tr>\n",
              "    <tr>\n",
              "      <th>is_priority</th>\n",
              "      <td>NaN</td>\n",
              "      <td>NaN</td>\n",
              "      <td>NaN</td>\n",
              "    </tr>\n",
              "    <tr>\n",
              "      <th>category_id</th>\n",
              "      <td>NaN</td>\n",
              "      <td>1</td>\n",
              "      <td>1</td>\n",
              "    </tr>\n",
              "    <tr>\n",
              "      <th>amsl</th>\n",
              "      <td>NaN</td>\n",
              "      <td>NaN</td>\n",
              "      <td>NaN</td>\n",
              "    </tr>\n",
              "    <tr>\n",
              "      <th>amsl_unit</th>\n",
              "      <td>NaN</td>\n",
              "      <td>NaN</td>\n",
              "      <td>NaN</td>\n",
              "    </tr>\n",
              "    <tr>\n",
              "      <th>org_title</th>\n",
              "      <td>Center For NYC Neighborhoods</td>\n",
              "      <td>Bpeace</td>\n",
              "      <td>Street Project</td>\n",
              "    </tr>\n",
              "    <tr>\n",
              "      <th>org_content_id</th>\n",
              "      <td>4426</td>\n",
              "      <td>37026</td>\n",
              "      <td>3001</td>\n",
              "    </tr>\n",
              "    <tr>\n",
              "      <th>addresses_count</th>\n",
              "      <td>1</td>\n",
              "      <td>1</td>\n",
              "      <td>1</td>\n",
              "    </tr>\n",
              "    <tr>\n",
              "      <th>postalcode</th>\n",
              "      <td>NaN</td>\n",
              "      <td>10010</td>\n",
              "      <td>10026</td>\n",
              "    </tr>\n",
              "    <tr>\n",
              "      <th>primary_loc</th>\n",
              "      <td>NaN</td>\n",
              "      <td>NaN</td>\n",
              "      <td>NaN</td>\n",
              "    </tr>\n",
              "    <tr>\n",
              "      <th>display_url</th>\n",
              "      <td>/opportunities/4996</td>\n",
              "      <td>/opportunities/5008</td>\n",
              "      <td>/opportunities/5016</td>\n",
              "    </tr>\n",
              "    <tr>\n",
              "      <th>recurrence_type</th>\n",
              "      <td>onetime</td>\n",
              "      <td>onetime</td>\n",
              "      <td>onetime</td>\n",
              "    </tr>\n",
              "    <tr>\n",
              "      <th>hours</th>\n",
              "      <td>0</td>\n",
              "      <td>0</td>\n",
              "      <td>0</td>\n",
              "    </tr>\n",
              "    <tr>\n",
              "      <th>last_modified_date</th>\n",
              "      <td>June 23 2011</td>\n",
              "      <td>January 25 2011</td>\n",
              "      <td>January 21 2011</td>\n",
              "    </tr>\n",
              "    <tr>\n",
              "      <th>start_date_date</th>\n",
              "      <td>July 30 2011</td>\n",
              "      <td>February 01 2011</td>\n",
              "      <td>January 29 2011</td>\n",
              "    </tr>\n",
              "    <tr>\n",
              "      <th>end_date_date</th>\n",
              "      <td>July 30 2011</td>\n",
              "      <td>February 01 2011</td>\n",
              "      <td>January 29 2011</td>\n",
              "    </tr>\n",
              "    <tr>\n",
              "      <th>status</th>\n",
              "      <td>approved</td>\n",
              "      <td>approved</td>\n",
              "      <td>approved</td>\n",
              "    </tr>\n",
              "    <tr>\n",
              "      <th>Latitude</th>\n",
              "      <td>NaN</td>\n",
              "      <td>NaN</td>\n",
              "      <td>NaN</td>\n",
              "    </tr>\n",
              "    <tr>\n",
              "      <th>Longitude</th>\n",
              "      <td>NaN</td>\n",
              "      <td>NaN</td>\n",
              "      <td>NaN</td>\n",
              "    </tr>\n",
              "    <tr>\n",
              "      <th>Community Board</th>\n",
              "      <td>NaN</td>\n",
              "      <td>NaN</td>\n",
              "      <td>NaN</td>\n",
              "    </tr>\n",
              "    <tr>\n",
              "      <th>Community Council</th>\n",
              "      <td>NaN</td>\n",
              "      <td>NaN</td>\n",
              "      <td>NaN</td>\n",
              "    </tr>\n",
              "    <tr>\n",
              "      <th>Census Tract</th>\n",
              "      <td>NaN</td>\n",
              "      <td>NaN</td>\n",
              "      <td>NaN</td>\n",
              "    </tr>\n",
              "    <tr>\n",
              "      <th>BIN</th>\n",
              "      <td>NaN</td>\n",
              "      <td>NaN</td>\n",
              "      <td>NaN</td>\n",
              "    </tr>\n",
              "    <tr>\n",
              "      <th>BBL</th>\n",
              "      <td>NaN</td>\n",
              "      <td>NaN</td>\n",
              "      <td>NaN</td>\n",
              "    </tr>\n",
              "    <tr>\n",
              "      <th>NTA</th>\n",
              "      <td>NaN</td>\n",
              "      <td>NaN</td>\n",
              "      <td>NaN</td>\n",
              "    </tr>\n",
              "    <tr>\n",
              "      <th>start_date_converted</th>\n",
              "      <td>2011-07-30 00:00:00</td>\n",
              "      <td>2011-02-01 00:00:00</td>\n",
              "      <td>2011-01-29 00:00:00</td>\n",
              "    </tr>\n",
              "    <tr>\n",
              "      <th>start_date_month</th>\n",
              "      <td>7</td>\n",
              "      <td>2</td>\n",
              "      <td>1</td>\n",
              "    </tr>\n",
              "  </tbody>\n",
              "</table>\n",
              "</div>"
            ],
            "text/plain": [
              "                                                                      0  ...                                                  2\n",
              "opportunity_id                                                     4996  ...                                               5016\n",
              "content_id                                                        37004  ...                                              37143\n",
              "event_time                                                            0  ...                                                  0\n",
              "title                 Volunteers Needed For Rise Up & Stay Put! Home...  ...      Urban Adventures - Ice Skating at Lasker Rink\n",
              "hits                                                                737  ...                                                 62\n",
              "summary               Building on successful events last summer and ...  ...  Please join us and the students from Mott Hall...\n",
              "is_priority                                                         NaN  ...                                                NaN\n",
              "category_id                                                         NaN  ...                                                  1\n",
              "amsl                                                                NaN  ...                                                NaN\n",
              "amsl_unit                                                           NaN  ...                                                NaN\n",
              "org_title                                  Center For NYC Neighborhoods  ...                                     Street Project\n",
              "org_content_id                                                     4426  ...                                               3001\n",
              "addresses_count                                                       1  ...                                                  1\n",
              "postalcode                                                          NaN  ...                                              10026\n",
              "primary_loc                                                         NaN  ...                                                NaN\n",
              "display_url                                         /opportunities/4996  ...                                /opportunities/5016\n",
              "recurrence_type                                                 onetime  ...                                            onetime\n",
              "hours                                                                 0  ...                                                  0\n",
              "last_modified_date                                         June 23 2011  ...                                    January 21 2011\n",
              "start_date_date                                            July 30 2011  ...                                    January 29 2011\n",
              "end_date_date                                              July 30 2011  ...                                    January 29 2011\n",
              "status                                                         approved  ...                                           approved\n",
              "Latitude                                                            NaN  ...                                                NaN\n",
              "Longitude                                                           NaN  ...                                                NaN\n",
              "Community Board                                                     NaN  ...                                                NaN\n",
              "Community Council                                                   NaN  ...                                                NaN\n",
              "Census Tract                                                        NaN  ...                                                NaN\n",
              "BIN                                                                 NaN  ...                                                NaN\n",
              "BBL                                                                 NaN  ...                                                NaN\n",
              "NTA                                                                 NaN  ...                                                NaN\n",
              "start_date_converted                                2011-07-30 00:00:00  ...                                2011-01-29 00:00:00\n",
              "start_date_month                                                      7  ...                                                  1\n",
              "\n",
              "[32 rows x 3 columns]"
            ]
          },
          "metadata": {
            "tags": []
          },
          "execution_count": 178
        }
      ]
    },
    {
      "cell_type": "markdown",
      "metadata": {
        "id": "gWj6lWu76yuC",
        "colab_type": "text"
      },
      "source": [
        "#### Checking for correlated features\n",
        "\n",
        "Let's take a look at the wine dataset again, which is made up of continuous, numerical features. Run Pearson's correlation coefficient on the dataset to determine which columns are good candidates for eliminating. Then, remove those columns from the DataFrame.\n",
        "\n",
        "Take a minute to find the column where the correlation value is greater than 0.75 at least twice."
      ]
    },
    {
      "cell_type": "code",
      "metadata": {
        "id": "JOBCOLzF7CwP",
        "colab_type": "code",
        "colab": {
          "base_uri": "https://localhost:8080/",
          "height": 241
        },
        "outputId": "201cdfe1-19ac-498a-b623-57f5093e8fdd"
      },
      "source": [
        "wine_subset = wine[['Flavanoids', 'Total phenols', 'Malic acid',\n",
        "       'OD280/OD315 of diluted wines', 'Hue']].copy()\n",
        "\n",
        "wine_subset.corr()  "
      ],
      "execution_count": 179,
      "outputs": [
        {
          "output_type": "execute_result",
          "data": {
            "text/html": [
              "<div>\n",
              "<style scoped>\n",
              "    .dataframe tbody tr th:only-of-type {\n",
              "        vertical-align: middle;\n",
              "    }\n",
              "\n",
              "    .dataframe tbody tr th {\n",
              "        vertical-align: top;\n",
              "    }\n",
              "\n",
              "    .dataframe thead th {\n",
              "        text-align: right;\n",
              "    }\n",
              "</style>\n",
              "<table border=\"1\" class=\"dataframe\">\n",
              "  <thead>\n",
              "    <tr style=\"text-align: right;\">\n",
              "      <th></th>\n",
              "      <th>Flavanoids</th>\n",
              "      <th>Total phenols</th>\n",
              "      <th>Malic acid</th>\n",
              "      <th>OD280/OD315 of diluted wines</th>\n",
              "      <th>Hue</th>\n",
              "    </tr>\n",
              "  </thead>\n",
              "  <tbody>\n",
              "    <tr>\n",
              "      <th>Flavanoids</th>\n",
              "      <td>1.000000</td>\n",
              "      <td>0.864564</td>\n",
              "      <td>-0.411007</td>\n",
              "      <td>0.787194</td>\n",
              "      <td>0.543479</td>\n",
              "    </tr>\n",
              "    <tr>\n",
              "      <th>Total phenols</th>\n",
              "      <td>0.864564</td>\n",
              "      <td>1.000000</td>\n",
              "      <td>-0.335167</td>\n",
              "      <td>0.699949</td>\n",
              "      <td>0.433681</td>\n",
              "    </tr>\n",
              "    <tr>\n",
              "      <th>Malic acid</th>\n",
              "      <td>-0.411007</td>\n",
              "      <td>-0.335167</td>\n",
              "      <td>1.000000</td>\n",
              "      <td>-0.368710</td>\n",
              "      <td>-0.561296</td>\n",
              "    </tr>\n",
              "    <tr>\n",
              "      <th>OD280/OD315 of diluted wines</th>\n",
              "      <td>0.787194</td>\n",
              "      <td>0.699949</td>\n",
              "      <td>-0.368710</td>\n",
              "      <td>1.000000</td>\n",
              "      <td>0.565468</td>\n",
              "    </tr>\n",
              "    <tr>\n",
              "      <th>Hue</th>\n",
              "      <td>0.543479</td>\n",
              "      <td>0.433681</td>\n",
              "      <td>-0.561296</td>\n",
              "      <td>0.565468</td>\n",
              "      <td>1.000000</td>\n",
              "    </tr>\n",
              "  </tbody>\n",
              "</table>\n",
              "</div>"
            ],
            "text/plain": [
              "                              Flavanoids  ...       Hue\n",
              "Flavanoids                      1.000000  ...  0.543479\n",
              "Total phenols                   0.864564  ...  0.433681\n",
              "Malic acid                     -0.411007  ... -0.561296\n",
              "OD280/OD315 of diluted wines    0.787194  ...  0.565468\n",
              "Hue                             0.543479  ...  1.000000\n",
              "\n",
              "[5 rows x 5 columns]"
            ]
          },
          "metadata": {
            "tags": []
          },
          "execution_count": 179
        }
      ]
    },
    {
      "cell_type": "markdown",
      "metadata": {
        "id": "HoiI1w7b7GIY",
        "colab_type": "text"
      },
      "source": [
        "Flavanoids has corr greater than 0.75 twice."
      ]
    },
    {
      "cell_type": "code",
      "metadata": {
        "id": "9eyzid1X7zGr",
        "colab_type": "code",
        "colab": {}
      },
      "source": [
        "wine_subset.drop('Flavanoids', axis=1, inplace=True)"
      ],
      "execution_count": 0,
      "outputs": []
    },
    {
      "cell_type": "markdown",
      "metadata": {
        "id": "LwYLnlYn8EC6",
        "colab_type": "text"
      },
      "source": [
        "#### Using PCA\n",
        "\n",
        "Let's apply PCA to the wine dataset, to see if we can get an increase in our model's accuracy."
      ]
    },
    {
      "cell_type": "code",
      "metadata": {
        "id": "EOAbEthq88u1",
        "colab_type": "code",
        "colab": {
          "base_uri": "https://localhost:8080/",
          "height": 90
        },
        "outputId": "2f36e99c-f99f-43cc-d346-bc991cdc12c3"
      },
      "source": [
        "from sklearn.decomposition import PCA\n",
        "\n",
        "# Set up PCA and the X vector for diminsionality reduction\n",
        "pca = PCA()\n",
        "wine_X = wine.drop(\"Type\", axis=1)\n",
        "\n",
        "# Apply PCA to the wine dataset\n",
        "transformed_X = pca.fit_transform(wine_X)\n",
        "\n",
        "# Look at the percentage of variance explained by the different components\n",
        "print(pca.explained_variance_ratio_)"
      ],
      "execution_count": 181,
      "outputs": [
        {
          "output_type": "stream",
          "text": [
            "[9.98091157e-01 1.73591574e-03 9.49596845e-05 5.02203105e-05\n",
            " 1.23683570e-05 8.46366883e-06 2.80684492e-06 1.52331150e-06\n",
            " 1.13031557e-06 7.22017230e-07 3.79083815e-07 2.12869847e-07\n",
            " 8.25543070e-08 5.87363612e-08]\n"
          ],
          "name": "stdout"
        }
      ]
    },
    {
      "cell_type": "markdown",
      "metadata": {
        "id": "bDg34rMi9MBN",
        "colab_type": "text"
      },
      "source": [
        "#### Training a model with PCA\n",
        "\n",
        "Now that we have run PCA on the wine dataset, let's try training a model with it."
      ]
    },
    {
      "cell_type": "code",
      "metadata": {
        "id": "KjDoXjEH9Ul0",
        "colab_type": "code",
        "colab": {
          "base_uri": "https://localhost:8080/",
          "height": 35
        },
        "outputId": "608b04e1-fa51-490d-ddfc-192517acebc0"
      },
      "source": [
        "# Split the transformed X and the y labels into training and test sets\n",
        "y = wine['Type']\n",
        "X_wine_train, X_wine_test, y_wine_train, y_wine_test = train_test_split(transformed_X, y)\n",
        "\n",
        "# Fit knn to the training data\n",
        "knn.fit(X_wine_train, y_wine_train)\n",
        "\n",
        "# Score knn on the test data and print it out\n",
        "print(knn.score(X_wine_test, y_wine_test))"
      ],
      "execution_count": 182,
      "outputs": [
        {
          "output_type": "stream",
          "text": [
            "0.6444444444444445\n"
          ],
          "name": "stdout"
        }
      ]
    },
    {
      "cell_type": "markdown",
      "metadata": {
        "id": "NxVzr-1X9Y8z",
        "colab_type": "text"
      },
      "source": [
        "### Part 5 - Putting it all together\n",
        "\n",
        "#### Checking column types\n",
        "\n",
        "Take a look at the UFO dataset's column types using the dtypes attribute. Two columns jump out for transformation: the seconds column, which is a numeric column but is being read in as object, and the date column, which can be transformed into the datetime type. That will make our feature engineering efforts easier later on."
      ]
    },
    {
      "cell_type": "code",
      "metadata": {
        "id": "8fmdZuPB--K9",
        "colab_type": "code",
        "colab": {
          "base_uri": "https://localhost:8080/",
          "height": 588
        },
        "outputId": "a791d358-bdac-47fb-adaa-fc08b0a06c7a"
      },
      "source": [
        "ufo.head(10).T"
      ],
      "execution_count": 183,
      "outputs": [
        {
          "output_type": "execute_result",
          "data": {
            "text/html": [
              "<div>\n",
              "<style scoped>\n",
              "    .dataframe tbody tr th:only-of-type {\n",
              "        vertical-align: middle;\n",
              "    }\n",
              "\n",
              "    .dataframe tbody tr th {\n",
              "        vertical-align: top;\n",
              "    }\n",
              "\n",
              "    .dataframe thead th {\n",
              "        text-align: right;\n",
              "    }\n",
              "</style>\n",
              "<table border=\"1\" class=\"dataframe\">\n",
              "  <thead>\n",
              "    <tr style=\"text-align: right;\">\n",
              "      <th></th>\n",
              "      <th>0</th>\n",
              "      <th>1</th>\n",
              "      <th>2</th>\n",
              "      <th>3</th>\n",
              "      <th>4</th>\n",
              "      <th>5</th>\n",
              "      <th>6</th>\n",
              "      <th>7</th>\n",
              "      <th>8</th>\n",
              "      <th>9</th>\n",
              "    </tr>\n",
              "  </thead>\n",
              "  <tbody>\n",
              "    <tr>\n",
              "      <th>date</th>\n",
              "      <td>11/3/2011 19:21</td>\n",
              "      <td>10/3/2004 19:05</td>\n",
              "      <td>9/25/2009 21:00</td>\n",
              "      <td>11/21/2002 05:45</td>\n",
              "      <td>8/19/2010 12:55</td>\n",
              "      <td>6/16/2012 23:00</td>\n",
              "      <td>7/12/2009 21:30</td>\n",
              "      <td>10/20/2008 18:30</td>\n",
              "      <td>6/9/2013 00:00</td>\n",
              "      <td>4/26/2013 23:27</td>\n",
              "    </tr>\n",
              "    <tr>\n",
              "      <th>city</th>\n",
              "      <td>woodville</td>\n",
              "      <td>cleveland</td>\n",
              "      <td>coon rapids</td>\n",
              "      <td>clemmons</td>\n",
              "      <td>calgary (canada)</td>\n",
              "      <td>san diego</td>\n",
              "      <td>duluth</td>\n",
              "      <td>fairfield</td>\n",
              "      <td>oakville (canada)</td>\n",
              "      <td>lacey</td>\n",
              "    </tr>\n",
              "    <tr>\n",
              "      <th>state</th>\n",
              "      <td>wi</td>\n",
              "      <td>oh</td>\n",
              "      <td>mn</td>\n",
              "      <td>nc</td>\n",
              "      <td>ab</td>\n",
              "      <td>ca</td>\n",
              "      <td>mn</td>\n",
              "      <td>tx</td>\n",
              "      <td>on</td>\n",
              "      <td>wa</td>\n",
              "    </tr>\n",
              "    <tr>\n",
              "      <th>country</th>\n",
              "      <td>us</td>\n",
              "      <td>us</td>\n",
              "      <td>us</td>\n",
              "      <td>us</td>\n",
              "      <td>ca</td>\n",
              "      <td>us</td>\n",
              "      <td>us</td>\n",
              "      <td>us</td>\n",
              "      <td>ca</td>\n",
              "      <td>us</td>\n",
              "    </tr>\n",
              "    <tr>\n",
              "      <th>type</th>\n",
              "      <td>unknown</td>\n",
              "      <td>circle</td>\n",
              "      <td>cigar</td>\n",
              "      <td>triangle</td>\n",
              "      <td>oval</td>\n",
              "      <td>light</td>\n",
              "      <td>oval</td>\n",
              "      <td>other</td>\n",
              "      <td>light</td>\n",
              "      <td>light</td>\n",
              "    </tr>\n",
              "    <tr>\n",
              "      <th>seconds</th>\n",
              "      <td>1.2096e+06</td>\n",
              "      <td>30</td>\n",
              "      <td>0</td>\n",
              "      <td>300</td>\n",
              "      <td>0</td>\n",
              "      <td>600</td>\n",
              "      <td>600</td>\n",
              "      <td>0</td>\n",
              "      <td>120</td>\n",
              "      <td>120</td>\n",
              "    </tr>\n",
              "    <tr>\n",
              "      <th>length_of_time</th>\n",
              "      <td>2 weeks</td>\n",
              "      <td>30sec.</td>\n",
              "      <td>NaN</td>\n",
              "      <td>about 5 minutes</td>\n",
              "      <td>2</td>\n",
              "      <td>10 minutes</td>\n",
              "      <td>total? maybe around 10 mi</td>\n",
              "      <td>several sightings from 10</td>\n",
              "      <td>2 minutes</td>\n",
              "      <td>2 minutes</td>\n",
              "    </tr>\n",
              "    <tr>\n",
              "      <th>desc</th>\n",
              "      <td>Red blinking objects similar to airplanes or s...</td>\n",
              "      <td>Many fighter jets flying towards UFO</td>\n",
              "      <td>Green&amp;#44 red&amp;#44 and blue pulses of light tha...</td>\n",
              "      <td>It was a large&amp;#44 triangular shaped flying ob...</td>\n",
              "      <td>A white spinning disc in the shape of an oval.</td>\n",
              "      <td>Dancing lights that would fly around and then ...</td>\n",
              "      <td>A minor amber color trail&amp;#44 (from where we w...</td>\n",
              "      <td>Multiple sightings in Central Texas (Freestone...</td>\n",
              "      <td>Brilliant orange light or chinese lantern at o...</td>\n",
              "      <td>Bright red light moving north to north west fr...</td>\n",
              "    </tr>\n",
              "    <tr>\n",
              "      <th>recorded</th>\n",
              "      <td>12/12/2011</td>\n",
              "      <td>10/27/2004</td>\n",
              "      <td>12/12/2009</td>\n",
              "      <td>12/23/2002</td>\n",
              "      <td>8/24/2010</td>\n",
              "      <td>7/4/2012</td>\n",
              "      <td>3/13/2012</td>\n",
              "      <td>1/10/2009</td>\n",
              "      <td>7/3/2013</td>\n",
              "      <td>5/15/2013</td>\n",
              "    </tr>\n",
              "    <tr>\n",
              "      <th>lat</th>\n",
              "      <td>44.9530556</td>\n",
              "      <td>41.4994444</td>\n",
              "      <td>45.1200000</td>\n",
              "      <td>36.0213889</td>\n",
              "      <td>51.083333</td>\n",
              "      <td>32.7152778</td>\n",
              "      <td>46.7833333</td>\n",
              "      <td>31.7244444</td>\n",
              "      <td>43.433333</td>\n",
              "      <td>47.0344444</td>\n",
              "    </tr>\n",
              "    <tr>\n",
              "      <th>long</th>\n",
              "      <td>-92.2911</td>\n",
              "      <td>-81.6956</td>\n",
              "      <td>-93.2875</td>\n",
              "      <td>-80.3822</td>\n",
              "      <td>-114.083</td>\n",
              "      <td>-117.156</td>\n",
              "      <td>-92.1064</td>\n",
              "      <td>-96.165</td>\n",
              "      <td>-79.6667</td>\n",
              "      <td>-122.822</td>\n",
              "    </tr>\n",
              "  </tbody>\n",
              "</table>\n",
              "</div>"
            ],
            "text/plain": [
              "                                                                0  ...                                                  9\n",
              "date                                              11/3/2011 19:21  ...                                    4/26/2013 23:27\n",
              "city                                                    woodville  ...                                              lacey\n",
              "state                                                          wi  ...                                                 wa\n",
              "country                                                        us  ...                                                 us\n",
              "type                                                      unknown  ...                                              light\n",
              "seconds                                                1.2096e+06  ...                                                120\n",
              "length_of_time                                            2 weeks  ...                                          2 minutes\n",
              "desc            Red blinking objects similar to airplanes or s...  ...  Bright red light moving north to north west fr...\n",
              "recorded                                               12/12/2011  ...                                          5/15/2013\n",
              "lat                                                    44.9530556  ...                                         47.0344444\n",
              "long                                                     -92.2911  ...                                           -122.822\n",
              "\n",
              "[11 rows x 10 columns]"
            ]
          },
          "metadata": {
            "tags": []
          },
          "execution_count": 183
        }
      ]
    },
    {
      "cell_type": "code",
      "metadata": {
        "id": "FkNDUxpZ9wZa",
        "colab_type": "code",
        "colab": {
          "base_uri": "https://localhost:8080/",
          "height": 329
        },
        "outputId": "ee835776-f0d9-4022-81b7-cf9f5c4c74cb"
      },
      "source": [
        "print(ufo.dtypes)\n",
        "\n",
        "# Change the type of seconds to float\n",
        "ufo[\"seconds\"] = ufo[\"seconds\"].astype(float)\n",
        "\n",
        "# Change the date column to type datetime\n",
        "ufo[\"date\"] = pd.to_datetime(ufo[\"date\"])\n",
        "print('-' * 40)\n",
        "print('-' * 40)\n",
        "# Check the column types\n",
        "print(ufo[[\"seconds\", \"date\"]].dtypes)"
      ],
      "execution_count": 184,
      "outputs": [
        {
          "output_type": "stream",
          "text": [
            "date               object\n",
            "city               object\n",
            "state              object\n",
            "country            object\n",
            "type               object\n",
            "seconds           float64\n",
            "length_of_time     object\n",
            "desc               object\n",
            "recorded           object\n",
            "lat                object\n",
            "long              float64\n",
            "dtype: object\n",
            "----------------------------------------\n",
            "----------------------------------------\n",
            "seconds           float64\n",
            "date       datetime64[ns]\n",
            "dtype: object\n"
          ],
          "name": "stdout"
        }
      ]
    },
    {
      "cell_type": "markdown",
      "metadata": {
        "id": "7cvdkBE_E3Dz",
        "colab_type": "text"
      },
      "source": [
        "#### Identifying features for standardization\n",
        "\n",
        "In this section, you'll investigate the variance of columns in the UFO dataset to determine which features should be standardized. After taking a look at the variances of the seconds and minutes column, you'll see that the variance of the seconds column is extremely high. Because seconds and minutes are related to each other (an issue we'll deal with when we select features for modeling), let's log normlize the seconds column."
      ]
    },
    {
      "cell_type": "code",
      "metadata": {
        "id": "dSrM-at3CZ1B",
        "colab_type": "code",
        "colab": {
          "base_uri": "https://localhost:8080/",
          "height": 129
        },
        "outputId": "459364a0-66e5-4ada-c7c5-d9783dc1991e"
      },
      "source": [
        "print(ufo[[\"seconds\"]].var())\n",
        "\n",
        "# Log normalize the seconds column\n",
        "ufo[\"seconds_log\"] = np.log(ufo[\"seconds\"])\n",
        "\n",
        "# Print out the variance of just the seconds_log column\n",
        "print(ufo[\"seconds_log\"].var())"
      ],
      "execution_count": 185,
      "outputs": [
        {
          "output_type": "stream",
          "text": [
            "seconds    3.156735e+10\n",
            "dtype: float64\n",
            "nan\n"
          ],
          "name": "stdout"
        },
        {
          "output_type": "stream",
          "text": [
            "/usr/local/lib/python3.6/dist-packages/pandas/core/series.py:856: RuntimeWarning: divide by zero encountered in log\n",
            "  result = getattr(ufunc, method)(*inputs, **kwargs)\n"
          ],
          "name": "stderr"
        }
      ]
    },
    {
      "cell_type": "markdown",
      "metadata": {
        "id": "H-mjkWFBExPk",
        "colab_type": "text"
      },
      "source": [
        "#### Encoding categorical variables\n",
        "\n",
        "There are couple of columns in the UFO dataset that need to be encoded before they can be modeled through scikit-learn. You'll do that transformation here, using both binary and one-hot encoding methods."
      ]
    },
    {
      "cell_type": "code",
      "metadata": {
        "id": "fateY2P5FC7w",
        "colab_type": "code",
        "colab": {
          "base_uri": "https://localhost:8080/",
          "height": 35
        },
        "outputId": "319646c7-5083-4003-9e8e-aa504eeb9c8f"
      },
      "source": [
        "# Use Pandas to encode us values as 1 and others as 0\n",
        "ufo[\"country_enc\"] = ufo[\"country\"].apply(lambda val: 1 if val == \"us\" else 0)\n",
        "\n",
        "# Print the number of unique type values\n",
        "print(len(ufo[\"type\"].unique()))\n",
        "\n",
        "# Create a one-hot encoded set of the type values\n",
        "type_set = pd.get_dummies(ufo[\"type\"])\n",
        "\n",
        "# Concatenate this set back to the ufo DataFrame\n",
        "ufo = pd.concat([ufo, type_set], axis=1)"
      ],
      "execution_count": 186,
      "outputs": [
        {
          "output_type": "stream",
          "text": [
            "22\n"
          ],
          "name": "stdout"
        }
      ]
    },
    {
      "cell_type": "markdown",
      "metadata": {
        "id": "HC95B0E7FI26",
        "colab_type": "text"
      },
      "source": [
        "#### Text vectorization\n",
        "\n",
        "Let's transform the desc column in the UFO dataset into tf/idf vectors, since there's likely something we can learn from this field."
      ]
    },
    {
      "cell_type": "code",
      "metadata": {
        "id": "f4nhZcdfF45N",
        "colab_type": "code",
        "colab": {
          "base_uri": "https://localhost:8080/",
          "height": 146
        },
        "outputId": "1fdb9b57-bd65-4974-995b-40c5b0ff85d4"
      },
      "source": [
        "# Take a look at the head of the desc field\n",
        "print(ufo[\"desc\"].head())\n",
        "\n",
        "# Create the tfidf vectorizer object\n",
        "vec = TfidfVectorizer()\n",
        "\n",
        "# Use vec's fit_transform method on the desc field\n",
        "desc_tfidf = vec.fit_transform(ufo[\"desc\"].fillna('0'))\n",
        "\n",
        "# Look at the number of columns this creates.\n",
        "print(desc_tfidf.shape)"
      ],
      "execution_count": 187,
      "outputs": [
        {
          "output_type": "stream",
          "text": [
            "0    Red blinking objects similar to airplanes or s...\n",
            "1                 Many fighter jets flying towards UFO\n",
            "2    Green&#44 red&#44 and blue pulses of light tha...\n",
            "3    It was a large&#44 triangular shaped flying ob...\n",
            "4       A white spinning disc in the shape of an oval.\n",
            "Name: desc, dtype: object\n",
            "(4935, 6433)\n"
          ],
          "name": "stdout"
        }
      ]
    },
    {
      "cell_type": "code",
      "metadata": {
        "id": "qTaDGpldPhxA",
        "colab_type": "code",
        "colab": {}
      },
      "source": [
        ""
      ],
      "execution_count": 0,
      "outputs": []
    }
  ]
}